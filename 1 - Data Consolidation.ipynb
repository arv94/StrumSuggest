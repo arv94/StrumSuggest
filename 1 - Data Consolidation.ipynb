{
 "cells": [
  {
   "cell_type": "markdown",
   "source": [
    "# Creating a Guitar Recommendation Engine using clustering - Part 1\n",
    "\n",
    "#### Reece Vincent\n",
    "#### 05/04/2023\n",
    "\n",
    "\n",
    "## Contents\n",
    "#### 0 - Data Gathering\n",
    "- **0.1 Webscraping process**\n",
    "- **0.2 Webscraping Script**\n",
    "\n",
    "#### 1 - Data Consolidation\n",
    "- **1.1 Introduction**\n",
    "- **1.2 Loading and examining data**\n",
    "- **1.3 Data consolidation**\n",
    "\n",
    "#### 2 - EDA and FE\n",
    "- **2.1. Data Preparation**\n",
    "- **2.2 EDA and feature Analysis**\n",
    "- **2.3 Test Model**\n",
    "\n",
    "#### 3 - Conclusions"
   ],
   "metadata": {
    "collapsed": false
   }
  },
  {
   "cell_type": "markdown",
   "source": [
    "## 1.1 Introduction\n",
    "\n",
    "The electric guitar market is vast and can be overwhelming for novice guitarists or even experienced players looking to expand their collections. To alleviate this problem, I will create a basic Recommendation Engine for Electric Guitars, using data webscraped from https://www.guitarguitar.co.uk/ (for more info see \"0 - Data Gathering\" section). The recommendation engine will be built on machine learning techniques, specifically unsupervised clustering, to suggest the most similar guitar to the user's inputted model.\n",
    "\n",
    "In the first stage of the project, I will examine the scraped data and highlight issues with the format, which I will then partially resolve in the Data Consolidation section. I will then explore the data and select relevant features for the modeling section.\n",
    "\n",
    "The modeling stage will utilize unsupervised clustering to group similar guitars together into classes. This clustering will form the basis of the recommendation engine, where the most similar guitar within a user's selected class will be suggested. How similarity is defined is discussed in the modelling section. Additionally, I have also included an output of the most dissimilar guitar in the same class as the inputted model to provide some variation.\n",
    "\n",
    "Finally, I will discuss the limitations of this project, including the scope of the dataset, the performance of the clustering model, and potential avenues of exploration and improvement for future projects."
   ],
   "metadata": {
    "collapsed": false
   }
  },
  {
   "cell_type": "code",
   "execution_count": 53,
   "outputs": [],
   "source": [
    "# Import necessary packages\n",
    "import pandas as pd\n",
    "import numpy as np\n",
    "import matplotlib.pyplot as plt\n",
    "import seaborn as sns\n",
    "\n",
    "import re #RegEx for pattern matching"
   ],
   "metadata": {
    "collapsed": false
   }
  },
  {
   "cell_type": "markdown",
   "source": [
    "## 1.2 Loading and examining data\n"
   ],
   "metadata": {
    "collapsed": false
   }
  },
  {
   "cell_type": "code",
   "execution_count": 2,
   "outputs": [
    {
     "name": "stderr",
     "output_type": "stream",
     "text": [
      "C:\\Users\\gabri\\AppData\\Local\\Temp\\ipykernel_9296\\4211228351.py:2: DtypeWarning: Columns (7,22,23,24,25,26,27,28,29,30,31,32,33,34,35,36,37,38,39,40,41,42,43,44,45,46,47,48,49,50,51,52,53,54,55,56,57,58,59,60,61,62,63,64,65,66,67,68,69,70,71,72,73,74,75,76,78,79,80,81,82,83,84,85,86,87,88,89,90,91,92,93,94,95,96,97,98,99,100,101,102,103,104,105,106,107,108,109,110,111,112,113,114,115,116,117,118,119,120,121,122,123,124,125,126,127,128,129,130,131,132,133,134,135,136,137,138,139,140,141,142,143,144,146,147,148,149,150,153,154,158,160,161,162,163,164,165,166,167,168,169,170,171,172,173,174,175,176,177,178,179,181,182,183,184,185,186,187,188,189,190,192,193,194,195,196,197,198,199,200,201,202,203,204,205,206,207,208,209,210,211,212,213,214,215,216,217,218,219,220,221,222,223,225,226,227,228,229,230,231,232,233,234,235,236,237,238,239,240,241,242,243,244,245,246,247,248,249,250,251,252,253,254,255,256,257,258,259,260,261,262,263,264,265,266,267,268,269,270,271,272,273,274,275,276,277,278,280,281,282,283,284,285,286,287,288,289,290,291,292,293,294,296,297,298,299,300,301,302,303,304,305,306,307,308,309,310,311,312,313,314,315,316,317,318,319,320,321,322,323,324,325,326,327,328,329,330,331,332,333,334,335,336,337,338,339,340,341,342,343,344,345,346,347,348,349,350,351,352,353,354,355,356,357,358,359,360,361,362,363,364,365,366,367,368,369,370,371,372,373,374,375,376,377,379,380,381,382,383,384,385,386,387,388,389,390,391,392,393,394,395,396,397,398,399,400,401,402,403,404,405,406,407,408,409,410,411,412,413,414,415,416,417,418,419,420,421,422,423,424,426,427,428,429,430,431,432,433,434,435,436,437,438,439,440,441,442,443,444,445,447,448,449,450,451,452,453,455,456,457,458,459,460,461,462,463,464,465,466,467,468,469,470,471,472,473,474,475,476,477,478,479,480,482,483,485,486,487,488,489,490,491,492,493,494,495,496,497,498,499,500,501,502,503,504,505,506,507,508,509,510,511,512,513,514,515,516,517,518,519,520,521,522,523,524,525,526,527,528,529,530,531,532,533,534,535,536,537,538,539,540,541,542,543,544,545,546,547,548,549,550,551,552,553,554,557,558,559,560,561,562,563,565,566,567,568,569,570) have mixed types. Specify dtype option on import or set low_memory=False.\n",
      "  df = pd.read_csv('guitars.csv')\n"
     ]
    },
    {
     "data": {
      "text/plain": "           brand                                              model  \\\n0         Gibson  Gibson Les Paul Standard 50s Heritage Cherry S...   \n1            PRS          PRS SE John Mayer Silver Sky Dragon Fruit   \n2       Epiphone           Epiphone Les Paul Standard '60s Iced Tea   \n3         Fender  Fender Kurt Cobain Jaguar 3 Colour Sunburst NO...   \n4       Epiphone                         Epiphone SG Standard Ebony   \n5  Pensa Guitars          Pensa Guitars 10th Anniversary MK90 #1034   \n6       Epiphone  Epiphone Les Paul Standard '50s Heritage Cherr...   \n7   Rickenbacker                Rickenbacker 330 Jetglo Left Handed   \n8         Fender  Fender Player Stratocaster Polar White Maple F...   \n9       Epiphone                     Epiphone Les Paul Custom Ebony   \n\n                                                link rating  \\\n0  https://www.guitarguitar.co.uk/product/1903193...  4.9/5   \n1  https://www.guitarguitar.co.uk/product/2112143...    NaN   \n2  https://www.guitarguitar.co.uk/product/1912163...  4.8/5   \n3  https://www.guitarguitar.co.uk/product/1312241...    5/5   \n4  https://www.guitarguitar.co.uk/product/1912163...    5/5   \n5  https://www.guitarguitar.co.uk/product/2210213...    NaN   \n6  https://www.guitarguitar.co.uk/product/1912163...    5/5   \n7  https://www.guitarguitar.co.uk/product/1211121...    NaN   \n8  https://www.guitarguitar.co.uk/product/1804303...  4.8/5   \n9  https://www.guitarguitar.co.uk/product/1912163...  4.9/5   \n\n                               id                              Body  \\\n0  Manufacturer's ID: LPS500HSNH1             Mahogany, Maple (Top)   \n1      Manufacturer's ID: SEJ2R1J                            Poplar   \n2   Manufacturer's ID: EILS6ITNH1  Mahogany with AA Flame Maple Top   \n3   Manufacturer's ID: 0143001700                             Alder   \n4   Manufacturer's ID: EISSBEBNH1                          Mahogany   \n5                             NaN               Chambered Swamp Ash   \n6   Manufacturer's ID: EILS5HSNH1           Mahogany with Maple Cap   \n7    Manufacturer's ID: 50330L-JG                             Maple   \n8   Manufacturer's ID: 0144502515                             Alder   \n9    Manufacturer's ID: EILCEBGH1                          Mahogany   \n\n                           Neck       Profile Nut Width  \\\n0                      Mahogany  Vintage '50s     1.69\"   \n1                         Maple           NaN  1 20/32”   \n2                      Mahogany           NaN    1.693\"   \n3                         Maple           NaN     1.65\"   \n4                      Mahogany           NaN    1.693\"   \n5  Hand Selected Birdseye Maple           NaN    1-5/8\"   \n6                      Mahogany           NaN    1.693\"   \n7                         Maple           NaN     1.63\"   \n8                         Maple           NaN    1.650\"   \n9                      Mahogany           NaN    1.693\"   \n\n                    Fingerboard  ... Bass Pickup  \\\n0                      Rosewood  ...         NaN   \n1                      Rosewood  ...         NaN   \n2                 Indian Laurel  ...         NaN   \n3                      Rosewood  ...         NaN   \n4                 Indian Laurel  ...         NaN   \n5          East Indian rosewood  ...         NaN   \n6                           NaN  ...         NaN   \n7  Chechen (Caribbean Rosewood)  ...         NaN   \n8                         Maple  ...         NaN   \n9                         Ebony  ...         NaN   \n\n  2 Volumes, 2 Push/Pull Tone Controls, 3-way Toggle Switch  \\\n0                                                NaN          \n1                                                NaN          \n2                                                NaN          \n3                                                NaN          \n4                                                NaN          \n5                                                NaN          \n6                                                NaN          \n7                                                NaN          \n8                                                NaN          \n9                                                NaN          \n\n  PRS Two-Piece Stoptail Hybrid Hardware  \\\n0                                    NaN   \n1                                    NaN   \n2                                    NaN   \n3                                    NaN   \n4                                    NaN   \n5                                    NaN   \n6                                    NaN   \n7                                    NaN   \n8                                    NaN   \n9                                    NaN   \n\n  Phase III Vintage Tuners with Faux Bone Buttons Top Material\\t  \\\n0                                             NaN            NaN   \n1                                             NaN            NaN   \n2                                             NaN            NaN   \n3                                             NaN            NaN   \n4                                             NaN            NaN   \n5                                             NaN            NaN   \n6                                             NaN            NaN   \n7                                             NaN            NaN   \n8                                             NaN            NaN   \n9                                             NaN            NaN   \n\n  Back & Sides\\t Neck Material\\t Saddle\\t Electronics\\t Tuners          \n0            NaN             NaN      NaN           NaN            NaN  \n1            NaN             NaN      NaN           NaN            NaN  \n2            NaN             NaN      NaN           NaN            NaN  \n3            NaN             NaN      NaN           NaN            NaN  \n4            NaN             NaN      NaN           NaN            NaN  \n5            NaN             NaN      NaN           NaN            NaN  \n6            NaN             NaN      NaN           NaN            NaN  \n7            NaN             NaN      NaN           NaN            NaN  \n8            NaN             NaN      NaN           NaN            NaN  \n9            NaN             NaN      NaN           NaN            NaN  \n\n[10 rows x 571 columns]",
      "text/html": "<div>\n<style scoped>\n    .dataframe tbody tr th:only-of-type {\n        vertical-align: middle;\n    }\n\n    .dataframe tbody tr th {\n        vertical-align: top;\n    }\n\n    .dataframe thead th {\n        text-align: right;\n    }\n</style>\n<table border=\"1\" class=\"dataframe\">\n  <thead>\n    <tr style=\"text-align: right;\">\n      <th></th>\n      <th>brand</th>\n      <th>model</th>\n      <th>link</th>\n      <th>rating</th>\n      <th>id</th>\n      <th>Body</th>\n      <th>Neck</th>\n      <th>Profile</th>\n      <th>Nut Width</th>\n      <th>Fingerboard</th>\n      <th>...</th>\n      <th>Bass Pickup</th>\n      <th>2 Volumes, 2 Push/Pull Tone Controls, 3-way Toggle Switch</th>\n      <th>PRS Two-Piece Stoptail Hybrid Hardware</th>\n      <th>Phase III Vintage Tuners with Faux Bone Buttons</th>\n      <th>Top Material\\t</th>\n      <th>Back &amp; Sides\\t</th>\n      <th>Neck Material\\t</th>\n      <th>Saddle\\t</th>\n      <th>Electronics\\t</th>\n      <th>Tuners</th>\n    </tr>\n  </thead>\n  <tbody>\n    <tr>\n      <th>0</th>\n      <td>Gibson</td>\n      <td>Gibson Les Paul Standard 50s Heritage Cherry S...</td>\n      <td>https://www.guitarguitar.co.uk/product/1903193...</td>\n      <td>4.9/5</td>\n      <td>Manufacturer's ID: LPS500HSNH1</td>\n      <td>Mahogany, Maple (Top)</td>\n      <td>Mahogany</td>\n      <td>Vintage '50s</td>\n      <td>1.69\"</td>\n      <td>Rosewood</td>\n      <td>...</td>\n      <td>NaN</td>\n      <td>NaN</td>\n      <td>NaN</td>\n      <td>NaN</td>\n      <td>NaN</td>\n      <td>NaN</td>\n      <td>NaN</td>\n      <td>NaN</td>\n      <td>NaN</td>\n      <td>NaN</td>\n    </tr>\n    <tr>\n      <th>1</th>\n      <td>PRS</td>\n      <td>PRS SE John Mayer Silver Sky Dragon Fruit</td>\n      <td>https://www.guitarguitar.co.uk/product/2112143...</td>\n      <td>NaN</td>\n      <td>Manufacturer's ID: SEJ2R1J</td>\n      <td>Poplar</td>\n      <td>Maple</td>\n      <td>NaN</td>\n      <td>1 20/32”</td>\n      <td>Rosewood</td>\n      <td>...</td>\n      <td>NaN</td>\n      <td>NaN</td>\n      <td>NaN</td>\n      <td>NaN</td>\n      <td>NaN</td>\n      <td>NaN</td>\n      <td>NaN</td>\n      <td>NaN</td>\n      <td>NaN</td>\n      <td>NaN</td>\n    </tr>\n    <tr>\n      <th>2</th>\n      <td>Epiphone</td>\n      <td>Epiphone Les Paul Standard '60s Iced Tea</td>\n      <td>https://www.guitarguitar.co.uk/product/1912163...</td>\n      <td>4.8/5</td>\n      <td>Manufacturer's ID: EILS6ITNH1</td>\n      <td>Mahogany with AA Flame Maple Top</td>\n      <td>Mahogany</td>\n      <td>NaN</td>\n      <td>1.693\"</td>\n      <td>Indian Laurel</td>\n      <td>...</td>\n      <td>NaN</td>\n      <td>NaN</td>\n      <td>NaN</td>\n      <td>NaN</td>\n      <td>NaN</td>\n      <td>NaN</td>\n      <td>NaN</td>\n      <td>NaN</td>\n      <td>NaN</td>\n      <td>NaN</td>\n    </tr>\n    <tr>\n      <th>3</th>\n      <td>Fender</td>\n      <td>Fender Kurt Cobain Jaguar 3 Colour Sunburst NO...</td>\n      <td>https://www.guitarguitar.co.uk/product/1312241...</td>\n      <td>5/5</td>\n      <td>Manufacturer's ID: 0143001700</td>\n      <td>Alder</td>\n      <td>Maple</td>\n      <td>NaN</td>\n      <td>1.65\"</td>\n      <td>Rosewood</td>\n      <td>...</td>\n      <td>NaN</td>\n      <td>NaN</td>\n      <td>NaN</td>\n      <td>NaN</td>\n      <td>NaN</td>\n      <td>NaN</td>\n      <td>NaN</td>\n      <td>NaN</td>\n      <td>NaN</td>\n      <td>NaN</td>\n    </tr>\n    <tr>\n      <th>4</th>\n      <td>Epiphone</td>\n      <td>Epiphone SG Standard Ebony</td>\n      <td>https://www.guitarguitar.co.uk/product/1912163...</td>\n      <td>5/5</td>\n      <td>Manufacturer's ID: EISSBEBNH1</td>\n      <td>Mahogany</td>\n      <td>Mahogany</td>\n      <td>NaN</td>\n      <td>1.693\"</td>\n      <td>Indian Laurel</td>\n      <td>...</td>\n      <td>NaN</td>\n      <td>NaN</td>\n      <td>NaN</td>\n      <td>NaN</td>\n      <td>NaN</td>\n      <td>NaN</td>\n      <td>NaN</td>\n      <td>NaN</td>\n      <td>NaN</td>\n      <td>NaN</td>\n    </tr>\n    <tr>\n      <th>5</th>\n      <td>Pensa Guitars</td>\n      <td>Pensa Guitars 10th Anniversary MK90 #1034</td>\n      <td>https://www.guitarguitar.co.uk/product/2210213...</td>\n      <td>NaN</td>\n      <td>NaN</td>\n      <td>Chambered Swamp Ash</td>\n      <td>Hand Selected Birdseye Maple</td>\n      <td>NaN</td>\n      <td>1-5/8\"</td>\n      <td>East Indian rosewood</td>\n      <td>...</td>\n      <td>NaN</td>\n      <td>NaN</td>\n      <td>NaN</td>\n      <td>NaN</td>\n      <td>NaN</td>\n      <td>NaN</td>\n      <td>NaN</td>\n      <td>NaN</td>\n      <td>NaN</td>\n      <td>NaN</td>\n    </tr>\n    <tr>\n      <th>6</th>\n      <td>Epiphone</td>\n      <td>Epiphone Les Paul Standard '50s Heritage Cherr...</td>\n      <td>https://www.guitarguitar.co.uk/product/1912163...</td>\n      <td>5/5</td>\n      <td>Manufacturer's ID: EILS5HSNH1</td>\n      <td>Mahogany with Maple Cap</td>\n      <td>Mahogany</td>\n      <td>NaN</td>\n      <td>1.693\"</td>\n      <td>NaN</td>\n      <td>...</td>\n      <td>NaN</td>\n      <td>NaN</td>\n      <td>NaN</td>\n      <td>NaN</td>\n      <td>NaN</td>\n      <td>NaN</td>\n      <td>NaN</td>\n      <td>NaN</td>\n      <td>NaN</td>\n      <td>NaN</td>\n    </tr>\n    <tr>\n      <th>7</th>\n      <td>Rickenbacker</td>\n      <td>Rickenbacker 330 Jetglo Left Handed</td>\n      <td>https://www.guitarguitar.co.uk/product/1211121...</td>\n      <td>NaN</td>\n      <td>Manufacturer's ID: 50330L-JG</td>\n      <td>Maple</td>\n      <td>Maple</td>\n      <td>NaN</td>\n      <td>1.63\"</td>\n      <td>Chechen (Caribbean Rosewood)</td>\n      <td>...</td>\n      <td>NaN</td>\n      <td>NaN</td>\n      <td>NaN</td>\n      <td>NaN</td>\n      <td>NaN</td>\n      <td>NaN</td>\n      <td>NaN</td>\n      <td>NaN</td>\n      <td>NaN</td>\n      <td>NaN</td>\n    </tr>\n    <tr>\n      <th>8</th>\n      <td>Fender</td>\n      <td>Fender Player Stratocaster Polar White Maple F...</td>\n      <td>https://www.guitarguitar.co.uk/product/1804303...</td>\n      <td>4.8/5</td>\n      <td>Manufacturer's ID: 0144502515</td>\n      <td>Alder</td>\n      <td>Maple</td>\n      <td>NaN</td>\n      <td>1.650\"</td>\n      <td>Maple</td>\n      <td>...</td>\n      <td>NaN</td>\n      <td>NaN</td>\n      <td>NaN</td>\n      <td>NaN</td>\n      <td>NaN</td>\n      <td>NaN</td>\n      <td>NaN</td>\n      <td>NaN</td>\n      <td>NaN</td>\n      <td>NaN</td>\n    </tr>\n    <tr>\n      <th>9</th>\n      <td>Epiphone</td>\n      <td>Epiphone Les Paul Custom Ebony</td>\n      <td>https://www.guitarguitar.co.uk/product/1912163...</td>\n      <td>4.9/5</td>\n      <td>Manufacturer's ID: EILCEBGH1</td>\n      <td>Mahogany</td>\n      <td>Mahogany</td>\n      <td>NaN</td>\n      <td>1.693\"</td>\n      <td>Ebony</td>\n      <td>...</td>\n      <td>NaN</td>\n      <td>NaN</td>\n      <td>NaN</td>\n      <td>NaN</td>\n      <td>NaN</td>\n      <td>NaN</td>\n      <td>NaN</td>\n      <td>NaN</td>\n      <td>NaN</td>\n      <td>NaN</td>\n    </tr>\n  </tbody>\n</table>\n<p>10 rows × 571 columns</p>\n</div>"
     },
     "execution_count": 2,
     "metadata": {},
     "output_type": "execute_result"
    }
   ],
   "source": [
    "## Import csv and head check\n",
    "df = pd.read_csv('guitars.csv')\n",
    "df.head(10)"
   ],
   "metadata": {
    "collapsed": false
   }
  },
  {
   "cell_type": "code",
   "execution_count": 3,
   "outputs": [
    {
     "data": {
      "text/plain": "(3211, 571)"
     },
     "execution_count": 3,
     "metadata": {},
     "output_type": "execute_result"
    }
   ],
   "source": [
    "## Large amount of columns\n",
    "df.shape"
   ],
   "metadata": {
    "collapsed": false
   }
  },
  {
   "cell_type": "code",
   "execution_count": 4,
   "outputs": [
    {
     "data": {
      "text/plain": "brand                 0\nmodel                 0\nlink                  0\nrating             2365\nid                  329\n                   ... \nBack & Sides\\t     3209\nNeck Material\\t    3209\nSaddle\\t           3209\nElectronics\\t      3209\nTuners             3209\nLength: 571, dtype: int64"
     },
     "execution_count": 4,
     "metadata": {},
     "output_type": "execute_result"
    }
   ],
   "source": [
    "## Null check\n",
    "df.isnull().sum()"
   ],
   "metadata": {
    "collapsed": false
   }
  },
  {
   "cell_type": "code",
   "execution_count": 5,
   "outputs": [
    {
     "name": "stdout",
     "output_type": "stream",
     "text": [
      "<class 'pandas.core.frame.DataFrame'>\n",
      "RangeIndex: 3211 entries, 0 to 3210\n",
      "Columns: 571 entries, brand to Tuners        \n",
      "dtypes: float64(20), object(551)\n",
      "memory usage: 14.0+ MB\n"
     ]
    }
   ],
   "source": [
    "## df too large to return info properly\n",
    "df.info()"
   ],
   "metadata": {
    "collapsed": false
   }
  },
  {
   "cell_type": "markdown",
   "source": [
    "Immediately it is apparent that there is an issue with the Dataframe's dimensions. There is a significant amount of columns and a large amount of these are mostly null. This will be looked into further but first a quick check of duplicates takes place."
   ],
   "metadata": {
    "collapsed": false
   }
  },
  {
   "cell_type": "code",
   "execution_count": 6,
   "outputs": [
    {
     "data": {
      "text/plain": "         brand                                   model  \\\n992   Schecter  Schecter PT Special Purple Burst Pearl   \n1050  Schecter  Schecter PT Special Purple Burst Pearl   \n\n                                                   link rating  \\\n992   https://www.guitarguitar.co.uk/product/2101203...    NaN   \n1050  https://www.guitarguitar.co.uk/product/2101203...    NaN   \n\n                                  id       Body   Neck Profile Nut Width  \\\n992   Manufacturer's ID: SCH-GTR-667  Swamp Ash  Maple     NaN    1.653\"   \n1050  Manufacturer's ID: SCH-GTR-667  Swamp Ash  Maple     NaN    1.653\"   \n\n     Fingerboard  ... Bass Pickup  \\\n992     Rosewood  ...         NaN   \n1050    Rosewood  ...         NaN   \n\n     2 Volumes, 2 Push/Pull Tone Controls, 3-way Toggle Switch  \\\n992                                                 NaN          \n1050                                                NaN          \n\n     PRS Two-Piece Stoptail Hybrid Hardware  \\\n992                                     NaN   \n1050                                    NaN   \n\n     Phase III Vintage Tuners with Faux Bone Buttons Top Material\\t  \\\n992                                              NaN            NaN   \n1050                                             NaN            NaN   \n\n     Back & Sides\\t Neck Material\\t Saddle\\t Electronics\\t Tuners          \n992             NaN             NaN      NaN           NaN            NaN  \n1050            NaN             NaN      NaN           NaN            NaN  \n\n[2 rows x 571 columns]",
      "text/html": "<div>\n<style scoped>\n    .dataframe tbody tr th:only-of-type {\n        vertical-align: middle;\n    }\n\n    .dataframe tbody tr th {\n        vertical-align: top;\n    }\n\n    .dataframe thead th {\n        text-align: right;\n    }\n</style>\n<table border=\"1\" class=\"dataframe\">\n  <thead>\n    <tr style=\"text-align: right;\">\n      <th></th>\n      <th>brand</th>\n      <th>model</th>\n      <th>link</th>\n      <th>rating</th>\n      <th>id</th>\n      <th>Body</th>\n      <th>Neck</th>\n      <th>Profile</th>\n      <th>Nut Width</th>\n      <th>Fingerboard</th>\n      <th>...</th>\n      <th>Bass Pickup</th>\n      <th>2 Volumes, 2 Push/Pull Tone Controls, 3-way Toggle Switch</th>\n      <th>PRS Two-Piece Stoptail Hybrid Hardware</th>\n      <th>Phase III Vintage Tuners with Faux Bone Buttons</th>\n      <th>Top Material\\t</th>\n      <th>Back &amp; Sides\\t</th>\n      <th>Neck Material\\t</th>\n      <th>Saddle\\t</th>\n      <th>Electronics\\t</th>\n      <th>Tuners</th>\n    </tr>\n  </thead>\n  <tbody>\n    <tr>\n      <th>992</th>\n      <td>Schecter</td>\n      <td>Schecter PT Special Purple Burst Pearl</td>\n      <td>https://www.guitarguitar.co.uk/product/2101203...</td>\n      <td>NaN</td>\n      <td>Manufacturer's ID: SCH-GTR-667</td>\n      <td>Swamp Ash</td>\n      <td>Maple</td>\n      <td>NaN</td>\n      <td>1.653\"</td>\n      <td>Rosewood</td>\n      <td>...</td>\n      <td>NaN</td>\n      <td>NaN</td>\n      <td>NaN</td>\n      <td>NaN</td>\n      <td>NaN</td>\n      <td>NaN</td>\n      <td>NaN</td>\n      <td>NaN</td>\n      <td>NaN</td>\n      <td>NaN</td>\n    </tr>\n    <tr>\n      <th>1050</th>\n      <td>Schecter</td>\n      <td>Schecter PT Special Purple Burst Pearl</td>\n      <td>https://www.guitarguitar.co.uk/product/2101203...</td>\n      <td>NaN</td>\n      <td>Manufacturer's ID: SCH-GTR-667</td>\n      <td>Swamp Ash</td>\n      <td>Maple</td>\n      <td>NaN</td>\n      <td>1.653\"</td>\n      <td>Rosewood</td>\n      <td>...</td>\n      <td>NaN</td>\n      <td>NaN</td>\n      <td>NaN</td>\n      <td>NaN</td>\n      <td>NaN</td>\n      <td>NaN</td>\n      <td>NaN</td>\n      <td>NaN</td>\n      <td>NaN</td>\n      <td>NaN</td>\n    </tr>\n  </tbody>\n</table>\n<p>2 rows × 571 columns</p>\n</div>"
     },
     "execution_count": 6,
     "metadata": {},
     "output_type": "execute_result"
    }
   ],
   "source": [
    "## Only 1 pure duplicate\n",
    "df[df.duplicated(keep=False)]"
   ],
   "metadata": {
    "collapsed": false
   }
  },
  {
   "cell_type": "code",
   "execution_count": 7,
   "outputs": [
    {
     "data": {
      "text/plain": "(3210, 571)"
     },
     "execution_count": 7,
     "metadata": {},
     "output_type": "execute_result"
    }
   ],
   "source": [
    "## Drop the duplicate\n",
    "df = df.drop_duplicates().reset_index(drop=True)\n",
    "df.shape"
   ],
   "metadata": {
    "collapsed": false
   }
  },
  {
   "cell_type": "code",
   "execution_count": 8,
   "outputs": [
    {
     "name": "stdout",
     "output_type": "stream",
     "text": [
      "There are 15 duplicate model names\n",
      "\n",
      "Solar Guitars A2.6FRPN Canibalismo                               2\n",
      "Solar Guitars S1.6AQOB Trans Ocean Blue                          2\n",
      "Schecter KM-6 MK-III Keith Merrow Trans Black Burst              2\n",
      "Schecter Solo-II Standard Faded Vintage Sunburst                 2\n",
      "Schecter Sun Valley SS FR III Sky Blue Burst                     2\n",
      "Schecter Omen Extreme 6 Vintage Sunburst                         2\n",
      "Schecter PT Pro Ebony Trans Purple Burst                         2\n",
      "Schecter Omen Elite-6 See-Thru Blue Burst                        2\n",
      "Schecter PT Special Aqua Burst Pearl                             2\n",
      "Schecter Nick Johnston Traditional HSS Atomic Ink                2\n",
      "Solar Guitars A1.6C Carbon Matte Black                           2\n",
      "Schecter Synyster Gates Standard Black with Silver Pinstripes    2\n",
      "Schecter SOLO-II FR Apocalypse Red Reign                         2\n",
      "Steinberger Spirit GT-Pro Deluxe (HB-SC-HB) White                2\n",
      "Epiphone Tom DeLonge ES-333 Limited Edition (Pre-Owned)          2\n",
      "Name: model, dtype: int64\n"
     ]
    }
   ],
   "source": [
    "## Get value counts for the 'model' column\n",
    "value_counts = df['model'].value_counts()\n",
    "\n",
    "## Filter value counts to only include values > 1\n",
    "value_counts_greater_than_1 = value_counts[value_counts > 1]\n",
    "\n",
    "\n",
    "## Get amount of duplicates and list of them - 15 duplicate pairs (30 entries)\n",
    "print(f'There are {len(value_counts_greater_than_1)} duplicate model names')\n",
    "print()\n",
    "print(value_counts_greater_than_1)"
   ],
   "metadata": {
    "collapsed": false
   }
  },
  {
   "cell_type": "markdown",
   "source": [
    "I wish to use the model names as unique identifiers however there are 15 duplicate Guitar Model names. Please note some further investigation may yield that these are in fact separate models with different features and some renaming could be carried out to preserve unique entries and ensure unique names. However, that is not done during this project and they are instead dropped completely - such a small sample being dropped will have a negligible impact on the data. This ensures each model entry is now a unique identifier."
   ],
   "metadata": {
    "collapsed": false
   }
  },
  {
   "cell_type": "code",
   "execution_count": 9,
   "outputs": [],
   "source": [
    "## Drop model duplicates\n",
    "df = df.drop_duplicates(subset=['model'], keep='first').reset_index(drop=True)"
   ],
   "metadata": {
    "collapsed": false
   }
  },
  {
   "cell_type": "code",
   "execution_count": 11,
   "outputs": [
    {
     "data": {
      "text/plain": "Manufacturer's ID: LPS500HSNH1    35\nManufacturer's ID: LPS500TONH1    23\nManufacturer's ID: LPS600B8NH1    16\nManufacturer's ID: LPS600ITNH1    13\nManufacturer's ID: LPS600UBNH1    10\n                                  ..\nManufacturer's ID: 0149872372      1\nManufacturer's ID: 110232849       1\nManufacturer's ID: 110232807       1\nManufacturer's ID: 110332829       1\nManufacturer's ID: 110392800       1\nName: id, Length: 2431, dtype: int64"
     },
     "execution_count": 11,
     "metadata": {},
     "output_type": "execute_result"
    }
   ],
   "source": [
    "## ID also has duplicates\n",
    "df.id.value_counts()"
   ],
   "metadata": {
    "collapsed": false
   }
  },
  {
   "cell_type": "code",
   "execution_count": 12,
   "outputs": [
    {
     "data": {
      "text/plain": "       brand                                              model  \\\n0     Gibson  Gibson Les Paul Standard 50s Heritage Cherry S...   \n1982  Gibson  Gibson Les Paul Standard 50s Heritage Cherry S...   \n1983  Gibson  Gibson Les Paul Standard 50s Heritage Cherry S...   \n1984  Gibson  Gibson Les Paul Standard 50s Heritage Cherry S...   \n1985  Gibson  Gibson Les Paul Standard 50s Heritage Cherry S...   \n1986  Gibson  Gibson Les Paul Standard 50s Heritage Cherry S...   \n1987  Gibson  Gibson Les Paul Standard 50s Heritage Cherry S...   \n1988  Gibson  Gibson Les Paul Standard 50s Heritage Cherry S...   \n1989  Gibson  Gibson Les Paul Standard 50s Heritage Cherry S...   \n1990  Gibson  Gibson Les Paul Standard 50s Heritage Cherry S...   \n1991  Gibson  Gibson Les Paul Standard 50s Heritage Cherry S...   \n1992  Gibson  Gibson Les Paul Standard 50s Heritage Cherry S...   \n1993  Gibson  Gibson Les Paul Standard 50s Heritage Cherry S...   \n1994  Gibson  Gibson Les Paul Standard 50s Heritage Cherry S...   \n1995  Gibson  Gibson Les Paul Standard 50s Heritage Cherry S...   \n1996  Gibson  Gibson Les Paul Standard 50s Heritage Cherry S...   \n1997  Gibson  Gibson Les Paul Standard 50s Heritage Cherry S...   \n1998  Gibson  Gibson Les Paul Standard 50s Heritage Cherry S...   \n1999  Gibson  Gibson Les Paul Standard 50s Heritage Cherry S...   \n2000  Gibson  Gibson Les Paul Standard 50s Heritage Cherry S...   \n2001  Gibson  Gibson Les Paul Standard 50s Heritage Cherry S...   \n2002  Gibson  Gibson Les Paul Standard 50s Heritage Cherry S...   \n2003  Gibson  Gibson Les Paul Standard 50s Heritage Cherry S...   \n2004  Gibson  Gibson Les Paul Standard 50s Heritage Cherry S...   \n2005  Gibson  Gibson Les Paul Standard 50s Heritage Cherry S...   \n2006  Gibson  Gibson Les Paul Standard 50s Heritage Cherry S...   \n2007  Gibson  Gibson Les Paul Standard 50s Heritage Cherry S...   \n2008  Gibson  Gibson Les Paul Standard 50s Heritage Cherry S...   \n2009  Gibson  Gibson Les Paul Standard 50s Heritage Cherry S...   \n2010  Gibson  Gibson Les Paul Standard 50s Heritage Cherry S...   \n2011  Gibson  Gibson Les Paul Standard 50s Heritage Cherry S...   \n2012  Gibson  Gibson Les Paul Standard 50s Heritage Cherry S...   \n2013  Gibson  Gibson Les Paul Standard 50s Heritage Cherry S...   \n2014  Gibson  Gibson Les Paul Standard 50s Heritage Cherry S...   \n2015  Gibson  Gibson Les Paul Standard 50s Heritage Cherry S...   \n\n                                                   link rating  \\\n0     https://www.guitarguitar.co.uk/product/1903193...  4.9/5   \n1982  https://www.guitarguitar.co.uk/product/1903193...  4.9/5   \n1983  https://www.guitarguitar.co.uk/product/1903193...  4.9/5   \n1984  https://www.guitarguitar.co.uk/product/1903193...  4.9/5   \n1985  https://www.guitarguitar.co.uk/product/1903193...  4.9/5   \n1986  https://www.guitarguitar.co.uk/product/1903193...  4.9/5   \n1987  https://www.guitarguitar.co.uk/product/1903193...  4.9/5   \n1988  https://www.guitarguitar.co.uk/product/1903193...  4.9/5   \n1989  https://www.guitarguitar.co.uk/product/1903193...  4.9/5   \n1990  https://www.guitarguitar.co.uk/product/1903193...  4.9/5   \n1991  https://www.guitarguitar.co.uk/product/1903193...  4.9/5   \n1992  https://www.guitarguitar.co.uk/product/1903193...  4.9/5   \n1993  https://www.guitarguitar.co.uk/product/1903193...  4.9/5   \n1994  https://www.guitarguitar.co.uk/product/1903193...  4.9/5   \n1995  https://www.guitarguitar.co.uk/product/1903193...  4.9/5   \n1996  https://www.guitarguitar.co.uk/product/1903193...  4.9/5   \n1997  https://www.guitarguitar.co.uk/product/1903193...  4.9/5   \n1998  https://www.guitarguitar.co.uk/product/1903193...  4.9/5   \n1999  https://www.guitarguitar.co.uk/product/1903193...  4.9/5   \n2000  https://www.guitarguitar.co.uk/product/1903193...  4.9/5   \n2001  https://www.guitarguitar.co.uk/product/1903193...  4.9/5   \n2002  https://www.guitarguitar.co.uk/product/1903193...  4.9/5   \n2003  https://www.guitarguitar.co.uk/product/1903193...  4.9/5   \n2004  https://www.guitarguitar.co.uk/product/1903193...  4.9/5   \n2005  https://www.guitarguitar.co.uk/product/1903193...  4.9/5   \n2006  https://www.guitarguitar.co.uk/product/1903193...  4.9/5   \n2007  https://www.guitarguitar.co.uk/product/1903193...  4.9/5   \n2008  https://www.guitarguitar.co.uk/product/1903193...  4.9/5   \n2009  https://www.guitarguitar.co.uk/product/1903193...  4.9/5   \n2010  https://www.guitarguitar.co.uk/product/1903193...  4.9/5   \n2011  https://www.guitarguitar.co.uk/product/1903193...  4.9/5   \n2012  https://www.guitarguitar.co.uk/product/1903193...  4.9/5   \n2013  https://www.guitarguitar.co.uk/product/1903193...  4.9/5   \n2014  https://www.guitarguitar.co.uk/product/1903193...  4.9/5   \n2015  https://www.guitarguitar.co.uk/product/1903193...  4.9/5   \n\n                                  id                   Body      Neck  \\\n0     Manufacturer's ID: LPS500HSNH1  Mahogany, Maple (Top)  Mahogany   \n1982  Manufacturer's ID: LPS500HSNH1  Mahogany, Maple (Top)  Mahogany   \n1983  Manufacturer's ID: LPS500HSNH1  Mahogany, Maple (Top)  Mahogany   \n1984  Manufacturer's ID: LPS500HSNH1  Mahogany, Maple (Top)  Mahogany   \n1985  Manufacturer's ID: LPS500HSNH1  Mahogany, Maple (Top)  Mahogany   \n1986  Manufacturer's ID: LPS500HSNH1  Mahogany, Maple (Top)  Mahogany   \n1987  Manufacturer's ID: LPS500HSNH1  Mahogany, Maple (Top)  Mahogany   \n1988  Manufacturer's ID: LPS500HSNH1  Mahogany, Maple (Top)  Mahogany   \n1989  Manufacturer's ID: LPS500HSNH1  Mahogany, Maple (Top)  Mahogany   \n1990  Manufacturer's ID: LPS500HSNH1  Mahogany, Maple (Top)  Mahogany   \n1991  Manufacturer's ID: LPS500HSNH1  Mahogany, Maple (Top)  Mahogany   \n1992  Manufacturer's ID: LPS500HSNH1  Mahogany, Maple (Top)  Mahogany   \n1993  Manufacturer's ID: LPS500HSNH1  Mahogany, Maple (Top)  Mahogany   \n1994  Manufacturer's ID: LPS500HSNH1  Mahogany, Maple (Top)  Mahogany   \n1995  Manufacturer's ID: LPS500HSNH1  Mahogany, Maple (Top)  Mahogany   \n1996  Manufacturer's ID: LPS500HSNH1  Mahogany, Maple (Top)  Mahogany   \n1997  Manufacturer's ID: LPS500HSNH1  Mahogany, Maple (Top)  Mahogany   \n1998  Manufacturer's ID: LPS500HSNH1  Mahogany, Maple (Top)  Mahogany   \n1999  Manufacturer's ID: LPS500HSNH1  Mahogany, Maple (Top)  Mahogany   \n2000  Manufacturer's ID: LPS500HSNH1  Mahogany, Maple (Top)  Mahogany   \n2001  Manufacturer's ID: LPS500HSNH1  Mahogany, Maple (Top)  Mahogany   \n2002  Manufacturer's ID: LPS500HSNH1  Mahogany, Maple (Top)  Mahogany   \n2003  Manufacturer's ID: LPS500HSNH1  Mahogany, Maple (Top)  Mahogany   \n2004  Manufacturer's ID: LPS500HSNH1  Mahogany, Maple (Top)  Mahogany   \n2005  Manufacturer's ID: LPS500HSNH1  Mahogany, Maple (Top)  Mahogany   \n2006  Manufacturer's ID: LPS500HSNH1  Mahogany, Maple (Top)  Mahogany   \n2007  Manufacturer's ID: LPS500HSNH1  Mahogany, Maple (Top)  Mahogany   \n2008  Manufacturer's ID: LPS500HSNH1  Mahogany, Maple (Top)  Mahogany   \n2009  Manufacturer's ID: LPS500HSNH1  Mahogany, Maple (Top)  Mahogany   \n2010  Manufacturer's ID: LPS500HSNH1  Mahogany, Maple (Top)  Mahogany   \n2011  Manufacturer's ID: LPS500HSNH1  Mahogany, Maple (Top)  Mahogany   \n2012  Manufacturer's ID: LPS500HSNH1  Mahogany, Maple (Top)  Mahogany   \n2013  Manufacturer's ID: LPS500HSNH1  Mahogany, Maple (Top)  Mahogany   \n2014  Manufacturer's ID: LPS500HSNH1  Mahogany, Maple (Top)  Mahogany   \n2015  Manufacturer's ID: LPS500HSNH1  Mahogany, Maple (Top)  Mahogany   \n\n           Profile Nut Width Fingerboard  ... Bass Pickup  \\\n0     Vintage '50s     1.69\"    Rosewood  ...         NaN   \n1982  Vintage '50s     1.69\"    Rosewood  ...         NaN   \n1983  Vintage '50s     1.69\"    Rosewood  ...         NaN   \n1984  Vintage '50s     1.69\"    Rosewood  ...         NaN   \n1985  Vintage '50s     1.69\"    Rosewood  ...         NaN   \n1986  Vintage '50s     1.69\"    Rosewood  ...         NaN   \n1987  Vintage '50s     1.69\"    Rosewood  ...         NaN   \n1988  Vintage '50s     1.69\"    Rosewood  ...         NaN   \n1989  Vintage '50s     1.69\"    Rosewood  ...         NaN   \n1990  Vintage '50s     1.69\"    Rosewood  ...         NaN   \n1991  Vintage '50s     1.69\"    Rosewood  ...         NaN   \n1992  Vintage '50s     1.69\"    Rosewood  ...         NaN   \n1993  Vintage '50s     1.69\"    Rosewood  ...         NaN   \n1994  Vintage '50s     1.69\"    Rosewood  ...         NaN   \n1995  Vintage '50s     1.69\"    Rosewood  ...         NaN   \n1996  Vintage '50s     1.69\"    Rosewood  ...         NaN   \n1997  Vintage '50s     1.69\"    Rosewood  ...         NaN   \n1998  Vintage '50s     1.69\"    Rosewood  ...         NaN   \n1999  Vintage '50s     1.69\"    Rosewood  ...         NaN   \n2000  Vintage '50s     1.69\"    Rosewood  ...         NaN   \n2001  Vintage '50s     1.69\"    Rosewood  ...         NaN   \n2002  Vintage '50s     1.69\"    Rosewood  ...         NaN   \n2003  Vintage '50s     1.69\"    Rosewood  ...         NaN   \n2004  Vintage '50s     1.69\"    Rosewood  ...         NaN   \n2005  Vintage '50s     1.69\"    Rosewood  ...         NaN   \n2006  Vintage '50s     1.69\"    Rosewood  ...         NaN   \n2007  Vintage '50s     1.69\"    Rosewood  ...         NaN   \n2008  Vintage '50s     1.69\"    Rosewood  ...         NaN   \n2009  Vintage '50s     1.69\"    Rosewood  ...         NaN   \n2010  Vintage '50s     1.69\"    Rosewood  ...         NaN   \n2011  Vintage '50s     1.69\"    Rosewood  ...         NaN   \n2012  Vintage '50s     1.69\"    Rosewood  ...         NaN   \n2013  Vintage '50s     1.69\"    Rosewood  ...         NaN   \n2014  Vintage '50s     1.69\"    Rosewood  ...         NaN   \n2015  Vintage '50s     1.69\"    Rosewood  ...         NaN   \n\n     2 Volumes, 2 Push/Pull Tone Controls, 3-way Toggle Switch  \\\n0                                                   NaN          \n1982                                                NaN          \n1983                                                NaN          \n1984                                                NaN          \n1985                                                NaN          \n1986                                                NaN          \n1987                                                NaN          \n1988                                                NaN          \n1989                                                NaN          \n1990                                                NaN          \n1991                                                NaN          \n1992                                                NaN          \n1993                                                NaN          \n1994                                                NaN          \n1995                                                NaN          \n1996                                                NaN          \n1997                                                NaN          \n1998                                                NaN          \n1999                                                NaN          \n2000                                                NaN          \n2001                                                NaN          \n2002                                                NaN          \n2003                                                NaN          \n2004                                                NaN          \n2005                                                NaN          \n2006                                                NaN          \n2007                                                NaN          \n2008                                                NaN          \n2009                                                NaN          \n2010                                                NaN          \n2011                                                NaN          \n2012                                                NaN          \n2013                                                NaN          \n2014                                                NaN          \n2015                                                NaN          \n\n     PRS Two-Piece Stoptail Hybrid Hardware  \\\n0                                       NaN   \n1982                                    NaN   \n1983                                    NaN   \n1984                                    NaN   \n1985                                    NaN   \n1986                                    NaN   \n1987                                    NaN   \n1988                                    NaN   \n1989                                    NaN   \n1990                                    NaN   \n1991                                    NaN   \n1992                                    NaN   \n1993                                    NaN   \n1994                                    NaN   \n1995                                    NaN   \n1996                                    NaN   \n1997                                    NaN   \n1998                                    NaN   \n1999                                    NaN   \n2000                                    NaN   \n2001                                    NaN   \n2002                                    NaN   \n2003                                    NaN   \n2004                                    NaN   \n2005                                    NaN   \n2006                                    NaN   \n2007                                    NaN   \n2008                                    NaN   \n2009                                    NaN   \n2010                                    NaN   \n2011                                    NaN   \n2012                                    NaN   \n2013                                    NaN   \n2014                                    NaN   \n2015                                    NaN   \n\n     Phase III Vintage Tuners with Faux Bone Buttons Top Material\\t  \\\n0                                                NaN            NaN   \n1982                                             NaN            NaN   \n1983                                             NaN            NaN   \n1984                                             NaN            NaN   \n1985                                             NaN            NaN   \n1986                                             NaN            NaN   \n1987                                             NaN            NaN   \n1988                                             NaN            NaN   \n1989                                             NaN            NaN   \n1990                                             NaN            NaN   \n1991                                             NaN            NaN   \n1992                                             NaN            NaN   \n1993                                             NaN            NaN   \n1994                                             NaN            NaN   \n1995                                             NaN            NaN   \n1996                                             NaN            NaN   \n1997                                             NaN            NaN   \n1998                                             NaN            NaN   \n1999                                             NaN            NaN   \n2000                                             NaN            NaN   \n2001                                             NaN            NaN   \n2002                                             NaN            NaN   \n2003                                             NaN            NaN   \n2004                                             NaN            NaN   \n2005                                             NaN            NaN   \n2006                                             NaN            NaN   \n2007                                             NaN            NaN   \n2008                                             NaN            NaN   \n2009                                             NaN            NaN   \n2010                                             NaN            NaN   \n2011                                             NaN            NaN   \n2012                                             NaN            NaN   \n2013                                             NaN            NaN   \n2014                                             NaN            NaN   \n2015                                             NaN            NaN   \n\n     Back & Sides\\t Neck Material\\t Saddle\\t Electronics\\t Tuners          \n0               NaN             NaN      NaN           NaN            NaN  \n1982            NaN             NaN      NaN           NaN            NaN  \n1983            NaN             NaN      NaN           NaN            NaN  \n1984            NaN             NaN      NaN           NaN            NaN  \n1985            NaN             NaN      NaN           NaN            NaN  \n1986            NaN             NaN      NaN           NaN            NaN  \n1987            NaN             NaN      NaN           NaN            NaN  \n1988            NaN             NaN      NaN           NaN            NaN  \n1989            NaN             NaN      NaN           NaN            NaN  \n1990            NaN             NaN      NaN           NaN            NaN  \n1991            NaN             NaN      NaN           NaN            NaN  \n1992            NaN             NaN      NaN           NaN            NaN  \n1993            NaN             NaN      NaN           NaN            NaN  \n1994            NaN             NaN      NaN           NaN            NaN  \n1995            NaN             NaN      NaN           NaN            NaN  \n1996            NaN             NaN      NaN           NaN            NaN  \n1997            NaN             NaN      NaN           NaN            NaN  \n1998            NaN             NaN      NaN           NaN            NaN  \n1999            NaN             NaN      NaN           NaN            NaN  \n2000            NaN             NaN      NaN           NaN            NaN  \n2001            NaN             NaN      NaN           NaN            NaN  \n2002            NaN             NaN      NaN           NaN            NaN  \n2003            NaN             NaN      NaN           NaN            NaN  \n2004            NaN             NaN      NaN           NaN            NaN  \n2005            NaN             NaN      NaN           NaN            NaN  \n2006            NaN             NaN      NaN           NaN            NaN  \n2007            NaN             NaN      NaN           NaN            NaN  \n2008            NaN             NaN      NaN           NaN            NaN  \n2009            NaN             NaN      NaN           NaN            NaN  \n2010            NaN             NaN      NaN           NaN            NaN  \n2011            NaN             NaN      NaN           NaN            NaN  \n2012            NaN             NaN      NaN           NaN            NaN  \n2013            NaN             NaN      NaN           NaN            NaN  \n2014            NaN             NaN      NaN           NaN            NaN  \n2015            NaN             NaN      NaN           NaN            NaN  \n\n[35 rows x 571 columns]",
      "text/html": "<div>\n<style scoped>\n    .dataframe tbody tr th:only-of-type {\n        vertical-align: middle;\n    }\n\n    .dataframe tbody tr th {\n        vertical-align: top;\n    }\n\n    .dataframe thead th {\n        text-align: right;\n    }\n</style>\n<table border=\"1\" class=\"dataframe\">\n  <thead>\n    <tr style=\"text-align: right;\">\n      <th></th>\n      <th>brand</th>\n      <th>model</th>\n      <th>link</th>\n      <th>rating</th>\n      <th>id</th>\n      <th>Body</th>\n      <th>Neck</th>\n      <th>Profile</th>\n      <th>Nut Width</th>\n      <th>Fingerboard</th>\n      <th>...</th>\n      <th>Bass Pickup</th>\n      <th>2 Volumes, 2 Push/Pull Tone Controls, 3-way Toggle Switch</th>\n      <th>PRS Two-Piece Stoptail Hybrid Hardware</th>\n      <th>Phase III Vintage Tuners with Faux Bone Buttons</th>\n      <th>Top Material\\t</th>\n      <th>Back &amp; Sides\\t</th>\n      <th>Neck Material\\t</th>\n      <th>Saddle\\t</th>\n      <th>Electronics\\t</th>\n      <th>Tuners</th>\n    </tr>\n  </thead>\n  <tbody>\n    <tr>\n      <th>0</th>\n      <td>Gibson</td>\n      <td>Gibson Les Paul Standard 50s Heritage Cherry S...</td>\n      <td>https://www.guitarguitar.co.uk/product/1903193...</td>\n      <td>4.9/5</td>\n      <td>Manufacturer's ID: LPS500HSNH1</td>\n      <td>Mahogany, Maple (Top)</td>\n      <td>Mahogany</td>\n      <td>Vintage '50s</td>\n      <td>1.69\"</td>\n      <td>Rosewood</td>\n      <td>...</td>\n      <td>NaN</td>\n      <td>NaN</td>\n      <td>NaN</td>\n      <td>NaN</td>\n      <td>NaN</td>\n      <td>NaN</td>\n      <td>NaN</td>\n      <td>NaN</td>\n      <td>NaN</td>\n      <td>NaN</td>\n    </tr>\n    <tr>\n      <th>1982</th>\n      <td>Gibson</td>\n      <td>Gibson Les Paul Standard 50s Heritage Cherry S...</td>\n      <td>https://www.guitarguitar.co.uk/product/1903193...</td>\n      <td>4.9/5</td>\n      <td>Manufacturer's ID: LPS500HSNH1</td>\n      <td>Mahogany, Maple (Top)</td>\n      <td>Mahogany</td>\n      <td>Vintage '50s</td>\n      <td>1.69\"</td>\n      <td>Rosewood</td>\n      <td>...</td>\n      <td>NaN</td>\n      <td>NaN</td>\n      <td>NaN</td>\n      <td>NaN</td>\n      <td>NaN</td>\n      <td>NaN</td>\n      <td>NaN</td>\n      <td>NaN</td>\n      <td>NaN</td>\n      <td>NaN</td>\n    </tr>\n    <tr>\n      <th>1983</th>\n      <td>Gibson</td>\n      <td>Gibson Les Paul Standard 50s Heritage Cherry S...</td>\n      <td>https://www.guitarguitar.co.uk/product/1903193...</td>\n      <td>4.9/5</td>\n      <td>Manufacturer's ID: LPS500HSNH1</td>\n      <td>Mahogany, Maple (Top)</td>\n      <td>Mahogany</td>\n      <td>Vintage '50s</td>\n      <td>1.69\"</td>\n      <td>Rosewood</td>\n      <td>...</td>\n      <td>NaN</td>\n      <td>NaN</td>\n      <td>NaN</td>\n      <td>NaN</td>\n      <td>NaN</td>\n      <td>NaN</td>\n      <td>NaN</td>\n      <td>NaN</td>\n      <td>NaN</td>\n      <td>NaN</td>\n    </tr>\n    <tr>\n      <th>1984</th>\n      <td>Gibson</td>\n      <td>Gibson Les Paul Standard 50s Heritage Cherry S...</td>\n      <td>https://www.guitarguitar.co.uk/product/1903193...</td>\n      <td>4.9/5</td>\n      <td>Manufacturer's ID: LPS500HSNH1</td>\n      <td>Mahogany, Maple (Top)</td>\n      <td>Mahogany</td>\n      <td>Vintage '50s</td>\n      <td>1.69\"</td>\n      <td>Rosewood</td>\n      <td>...</td>\n      <td>NaN</td>\n      <td>NaN</td>\n      <td>NaN</td>\n      <td>NaN</td>\n      <td>NaN</td>\n      <td>NaN</td>\n      <td>NaN</td>\n      <td>NaN</td>\n      <td>NaN</td>\n      <td>NaN</td>\n    </tr>\n    <tr>\n      <th>1985</th>\n      <td>Gibson</td>\n      <td>Gibson Les Paul Standard 50s Heritage Cherry S...</td>\n      <td>https://www.guitarguitar.co.uk/product/1903193...</td>\n      <td>4.9/5</td>\n      <td>Manufacturer's ID: LPS500HSNH1</td>\n      <td>Mahogany, Maple (Top)</td>\n      <td>Mahogany</td>\n      <td>Vintage '50s</td>\n      <td>1.69\"</td>\n      <td>Rosewood</td>\n      <td>...</td>\n      <td>NaN</td>\n      <td>NaN</td>\n      <td>NaN</td>\n      <td>NaN</td>\n      <td>NaN</td>\n      <td>NaN</td>\n      <td>NaN</td>\n      <td>NaN</td>\n      <td>NaN</td>\n      <td>NaN</td>\n    </tr>\n    <tr>\n      <th>1986</th>\n      <td>Gibson</td>\n      <td>Gibson Les Paul Standard 50s Heritage Cherry S...</td>\n      <td>https://www.guitarguitar.co.uk/product/1903193...</td>\n      <td>4.9/5</td>\n      <td>Manufacturer's ID: LPS500HSNH1</td>\n      <td>Mahogany, Maple (Top)</td>\n      <td>Mahogany</td>\n      <td>Vintage '50s</td>\n      <td>1.69\"</td>\n      <td>Rosewood</td>\n      <td>...</td>\n      <td>NaN</td>\n      <td>NaN</td>\n      <td>NaN</td>\n      <td>NaN</td>\n      <td>NaN</td>\n      <td>NaN</td>\n      <td>NaN</td>\n      <td>NaN</td>\n      <td>NaN</td>\n      <td>NaN</td>\n    </tr>\n    <tr>\n      <th>1987</th>\n      <td>Gibson</td>\n      <td>Gibson Les Paul Standard 50s Heritage Cherry S...</td>\n      <td>https://www.guitarguitar.co.uk/product/1903193...</td>\n      <td>4.9/5</td>\n      <td>Manufacturer's ID: LPS500HSNH1</td>\n      <td>Mahogany, Maple (Top)</td>\n      <td>Mahogany</td>\n      <td>Vintage '50s</td>\n      <td>1.69\"</td>\n      <td>Rosewood</td>\n      <td>...</td>\n      <td>NaN</td>\n      <td>NaN</td>\n      <td>NaN</td>\n      <td>NaN</td>\n      <td>NaN</td>\n      <td>NaN</td>\n      <td>NaN</td>\n      <td>NaN</td>\n      <td>NaN</td>\n      <td>NaN</td>\n    </tr>\n    <tr>\n      <th>1988</th>\n      <td>Gibson</td>\n      <td>Gibson Les Paul Standard 50s Heritage Cherry S...</td>\n      <td>https://www.guitarguitar.co.uk/product/1903193...</td>\n      <td>4.9/5</td>\n      <td>Manufacturer's ID: LPS500HSNH1</td>\n      <td>Mahogany, Maple (Top)</td>\n      <td>Mahogany</td>\n      <td>Vintage '50s</td>\n      <td>1.69\"</td>\n      <td>Rosewood</td>\n      <td>...</td>\n      <td>NaN</td>\n      <td>NaN</td>\n      <td>NaN</td>\n      <td>NaN</td>\n      <td>NaN</td>\n      <td>NaN</td>\n      <td>NaN</td>\n      <td>NaN</td>\n      <td>NaN</td>\n      <td>NaN</td>\n    </tr>\n    <tr>\n      <th>1989</th>\n      <td>Gibson</td>\n      <td>Gibson Les Paul Standard 50s Heritage Cherry S...</td>\n      <td>https://www.guitarguitar.co.uk/product/1903193...</td>\n      <td>4.9/5</td>\n      <td>Manufacturer's ID: LPS500HSNH1</td>\n      <td>Mahogany, Maple (Top)</td>\n      <td>Mahogany</td>\n      <td>Vintage '50s</td>\n      <td>1.69\"</td>\n      <td>Rosewood</td>\n      <td>...</td>\n      <td>NaN</td>\n      <td>NaN</td>\n      <td>NaN</td>\n      <td>NaN</td>\n      <td>NaN</td>\n      <td>NaN</td>\n      <td>NaN</td>\n      <td>NaN</td>\n      <td>NaN</td>\n      <td>NaN</td>\n    </tr>\n    <tr>\n      <th>1990</th>\n      <td>Gibson</td>\n      <td>Gibson Les Paul Standard 50s Heritage Cherry S...</td>\n      <td>https://www.guitarguitar.co.uk/product/1903193...</td>\n      <td>4.9/5</td>\n      <td>Manufacturer's ID: LPS500HSNH1</td>\n      <td>Mahogany, Maple (Top)</td>\n      <td>Mahogany</td>\n      <td>Vintage '50s</td>\n      <td>1.69\"</td>\n      <td>Rosewood</td>\n      <td>...</td>\n      <td>NaN</td>\n      <td>NaN</td>\n      <td>NaN</td>\n      <td>NaN</td>\n      <td>NaN</td>\n      <td>NaN</td>\n      <td>NaN</td>\n      <td>NaN</td>\n      <td>NaN</td>\n      <td>NaN</td>\n    </tr>\n    <tr>\n      <th>1991</th>\n      <td>Gibson</td>\n      <td>Gibson Les Paul Standard 50s Heritage Cherry S...</td>\n      <td>https://www.guitarguitar.co.uk/product/1903193...</td>\n      <td>4.9/5</td>\n      <td>Manufacturer's ID: LPS500HSNH1</td>\n      <td>Mahogany, Maple (Top)</td>\n      <td>Mahogany</td>\n      <td>Vintage '50s</td>\n      <td>1.69\"</td>\n      <td>Rosewood</td>\n      <td>...</td>\n      <td>NaN</td>\n      <td>NaN</td>\n      <td>NaN</td>\n      <td>NaN</td>\n      <td>NaN</td>\n      <td>NaN</td>\n      <td>NaN</td>\n      <td>NaN</td>\n      <td>NaN</td>\n      <td>NaN</td>\n    </tr>\n    <tr>\n      <th>1992</th>\n      <td>Gibson</td>\n      <td>Gibson Les Paul Standard 50s Heritage Cherry S...</td>\n      <td>https://www.guitarguitar.co.uk/product/1903193...</td>\n      <td>4.9/5</td>\n      <td>Manufacturer's ID: LPS500HSNH1</td>\n      <td>Mahogany, Maple (Top)</td>\n      <td>Mahogany</td>\n      <td>Vintage '50s</td>\n      <td>1.69\"</td>\n      <td>Rosewood</td>\n      <td>...</td>\n      <td>NaN</td>\n      <td>NaN</td>\n      <td>NaN</td>\n      <td>NaN</td>\n      <td>NaN</td>\n      <td>NaN</td>\n      <td>NaN</td>\n      <td>NaN</td>\n      <td>NaN</td>\n      <td>NaN</td>\n    </tr>\n    <tr>\n      <th>1993</th>\n      <td>Gibson</td>\n      <td>Gibson Les Paul Standard 50s Heritage Cherry S...</td>\n      <td>https://www.guitarguitar.co.uk/product/1903193...</td>\n      <td>4.9/5</td>\n      <td>Manufacturer's ID: LPS500HSNH1</td>\n      <td>Mahogany, Maple (Top)</td>\n      <td>Mahogany</td>\n      <td>Vintage '50s</td>\n      <td>1.69\"</td>\n      <td>Rosewood</td>\n      <td>...</td>\n      <td>NaN</td>\n      <td>NaN</td>\n      <td>NaN</td>\n      <td>NaN</td>\n      <td>NaN</td>\n      <td>NaN</td>\n      <td>NaN</td>\n      <td>NaN</td>\n      <td>NaN</td>\n      <td>NaN</td>\n    </tr>\n    <tr>\n      <th>1994</th>\n      <td>Gibson</td>\n      <td>Gibson Les Paul Standard 50s Heritage Cherry S...</td>\n      <td>https://www.guitarguitar.co.uk/product/1903193...</td>\n      <td>4.9/5</td>\n      <td>Manufacturer's ID: LPS500HSNH1</td>\n      <td>Mahogany, Maple (Top)</td>\n      <td>Mahogany</td>\n      <td>Vintage '50s</td>\n      <td>1.69\"</td>\n      <td>Rosewood</td>\n      <td>...</td>\n      <td>NaN</td>\n      <td>NaN</td>\n      <td>NaN</td>\n      <td>NaN</td>\n      <td>NaN</td>\n      <td>NaN</td>\n      <td>NaN</td>\n      <td>NaN</td>\n      <td>NaN</td>\n      <td>NaN</td>\n    </tr>\n    <tr>\n      <th>1995</th>\n      <td>Gibson</td>\n      <td>Gibson Les Paul Standard 50s Heritage Cherry S...</td>\n      <td>https://www.guitarguitar.co.uk/product/1903193...</td>\n      <td>4.9/5</td>\n      <td>Manufacturer's ID: LPS500HSNH1</td>\n      <td>Mahogany, Maple (Top)</td>\n      <td>Mahogany</td>\n      <td>Vintage '50s</td>\n      <td>1.69\"</td>\n      <td>Rosewood</td>\n      <td>...</td>\n      <td>NaN</td>\n      <td>NaN</td>\n      <td>NaN</td>\n      <td>NaN</td>\n      <td>NaN</td>\n      <td>NaN</td>\n      <td>NaN</td>\n      <td>NaN</td>\n      <td>NaN</td>\n      <td>NaN</td>\n    </tr>\n    <tr>\n      <th>1996</th>\n      <td>Gibson</td>\n      <td>Gibson Les Paul Standard 50s Heritage Cherry S...</td>\n      <td>https://www.guitarguitar.co.uk/product/1903193...</td>\n      <td>4.9/5</td>\n      <td>Manufacturer's ID: LPS500HSNH1</td>\n      <td>Mahogany, Maple (Top)</td>\n      <td>Mahogany</td>\n      <td>Vintage '50s</td>\n      <td>1.69\"</td>\n      <td>Rosewood</td>\n      <td>...</td>\n      <td>NaN</td>\n      <td>NaN</td>\n      <td>NaN</td>\n      <td>NaN</td>\n      <td>NaN</td>\n      <td>NaN</td>\n      <td>NaN</td>\n      <td>NaN</td>\n      <td>NaN</td>\n      <td>NaN</td>\n    </tr>\n    <tr>\n      <th>1997</th>\n      <td>Gibson</td>\n      <td>Gibson Les Paul Standard 50s Heritage Cherry S...</td>\n      <td>https://www.guitarguitar.co.uk/product/1903193...</td>\n      <td>4.9/5</td>\n      <td>Manufacturer's ID: LPS500HSNH1</td>\n      <td>Mahogany, Maple (Top)</td>\n      <td>Mahogany</td>\n      <td>Vintage '50s</td>\n      <td>1.69\"</td>\n      <td>Rosewood</td>\n      <td>...</td>\n      <td>NaN</td>\n      <td>NaN</td>\n      <td>NaN</td>\n      <td>NaN</td>\n      <td>NaN</td>\n      <td>NaN</td>\n      <td>NaN</td>\n      <td>NaN</td>\n      <td>NaN</td>\n      <td>NaN</td>\n    </tr>\n    <tr>\n      <th>1998</th>\n      <td>Gibson</td>\n      <td>Gibson Les Paul Standard 50s Heritage Cherry S...</td>\n      <td>https://www.guitarguitar.co.uk/product/1903193...</td>\n      <td>4.9/5</td>\n      <td>Manufacturer's ID: LPS500HSNH1</td>\n      <td>Mahogany, Maple (Top)</td>\n      <td>Mahogany</td>\n      <td>Vintage '50s</td>\n      <td>1.69\"</td>\n      <td>Rosewood</td>\n      <td>...</td>\n      <td>NaN</td>\n      <td>NaN</td>\n      <td>NaN</td>\n      <td>NaN</td>\n      <td>NaN</td>\n      <td>NaN</td>\n      <td>NaN</td>\n      <td>NaN</td>\n      <td>NaN</td>\n      <td>NaN</td>\n    </tr>\n    <tr>\n      <th>1999</th>\n      <td>Gibson</td>\n      <td>Gibson Les Paul Standard 50s Heritage Cherry S...</td>\n      <td>https://www.guitarguitar.co.uk/product/1903193...</td>\n      <td>4.9/5</td>\n      <td>Manufacturer's ID: LPS500HSNH1</td>\n      <td>Mahogany, Maple (Top)</td>\n      <td>Mahogany</td>\n      <td>Vintage '50s</td>\n      <td>1.69\"</td>\n      <td>Rosewood</td>\n      <td>...</td>\n      <td>NaN</td>\n      <td>NaN</td>\n      <td>NaN</td>\n      <td>NaN</td>\n      <td>NaN</td>\n      <td>NaN</td>\n      <td>NaN</td>\n      <td>NaN</td>\n      <td>NaN</td>\n      <td>NaN</td>\n    </tr>\n    <tr>\n      <th>2000</th>\n      <td>Gibson</td>\n      <td>Gibson Les Paul Standard 50s Heritage Cherry S...</td>\n      <td>https://www.guitarguitar.co.uk/product/1903193...</td>\n      <td>4.9/5</td>\n      <td>Manufacturer's ID: LPS500HSNH1</td>\n      <td>Mahogany, Maple (Top)</td>\n      <td>Mahogany</td>\n      <td>Vintage '50s</td>\n      <td>1.69\"</td>\n      <td>Rosewood</td>\n      <td>...</td>\n      <td>NaN</td>\n      <td>NaN</td>\n      <td>NaN</td>\n      <td>NaN</td>\n      <td>NaN</td>\n      <td>NaN</td>\n      <td>NaN</td>\n      <td>NaN</td>\n      <td>NaN</td>\n      <td>NaN</td>\n    </tr>\n    <tr>\n      <th>2001</th>\n      <td>Gibson</td>\n      <td>Gibson Les Paul Standard 50s Heritage Cherry S...</td>\n      <td>https://www.guitarguitar.co.uk/product/1903193...</td>\n      <td>4.9/5</td>\n      <td>Manufacturer's ID: LPS500HSNH1</td>\n      <td>Mahogany, Maple (Top)</td>\n      <td>Mahogany</td>\n      <td>Vintage '50s</td>\n      <td>1.69\"</td>\n      <td>Rosewood</td>\n      <td>...</td>\n      <td>NaN</td>\n      <td>NaN</td>\n      <td>NaN</td>\n      <td>NaN</td>\n      <td>NaN</td>\n      <td>NaN</td>\n      <td>NaN</td>\n      <td>NaN</td>\n      <td>NaN</td>\n      <td>NaN</td>\n    </tr>\n    <tr>\n      <th>2002</th>\n      <td>Gibson</td>\n      <td>Gibson Les Paul Standard 50s Heritage Cherry S...</td>\n      <td>https://www.guitarguitar.co.uk/product/1903193...</td>\n      <td>4.9/5</td>\n      <td>Manufacturer's ID: LPS500HSNH1</td>\n      <td>Mahogany, Maple (Top)</td>\n      <td>Mahogany</td>\n      <td>Vintage '50s</td>\n      <td>1.69\"</td>\n      <td>Rosewood</td>\n      <td>...</td>\n      <td>NaN</td>\n      <td>NaN</td>\n      <td>NaN</td>\n      <td>NaN</td>\n      <td>NaN</td>\n      <td>NaN</td>\n      <td>NaN</td>\n      <td>NaN</td>\n      <td>NaN</td>\n      <td>NaN</td>\n    </tr>\n    <tr>\n      <th>2003</th>\n      <td>Gibson</td>\n      <td>Gibson Les Paul Standard 50s Heritage Cherry S...</td>\n      <td>https://www.guitarguitar.co.uk/product/1903193...</td>\n      <td>4.9/5</td>\n      <td>Manufacturer's ID: LPS500HSNH1</td>\n      <td>Mahogany, Maple (Top)</td>\n      <td>Mahogany</td>\n      <td>Vintage '50s</td>\n      <td>1.69\"</td>\n      <td>Rosewood</td>\n      <td>...</td>\n      <td>NaN</td>\n      <td>NaN</td>\n      <td>NaN</td>\n      <td>NaN</td>\n      <td>NaN</td>\n      <td>NaN</td>\n      <td>NaN</td>\n      <td>NaN</td>\n      <td>NaN</td>\n      <td>NaN</td>\n    </tr>\n    <tr>\n      <th>2004</th>\n      <td>Gibson</td>\n      <td>Gibson Les Paul Standard 50s Heritage Cherry S...</td>\n      <td>https://www.guitarguitar.co.uk/product/1903193...</td>\n      <td>4.9/5</td>\n      <td>Manufacturer's ID: LPS500HSNH1</td>\n      <td>Mahogany, Maple (Top)</td>\n      <td>Mahogany</td>\n      <td>Vintage '50s</td>\n      <td>1.69\"</td>\n      <td>Rosewood</td>\n      <td>...</td>\n      <td>NaN</td>\n      <td>NaN</td>\n      <td>NaN</td>\n      <td>NaN</td>\n      <td>NaN</td>\n      <td>NaN</td>\n      <td>NaN</td>\n      <td>NaN</td>\n      <td>NaN</td>\n      <td>NaN</td>\n    </tr>\n    <tr>\n      <th>2005</th>\n      <td>Gibson</td>\n      <td>Gibson Les Paul Standard 50s Heritage Cherry S...</td>\n      <td>https://www.guitarguitar.co.uk/product/1903193...</td>\n      <td>4.9/5</td>\n      <td>Manufacturer's ID: LPS500HSNH1</td>\n      <td>Mahogany, Maple (Top)</td>\n      <td>Mahogany</td>\n      <td>Vintage '50s</td>\n      <td>1.69\"</td>\n      <td>Rosewood</td>\n      <td>...</td>\n      <td>NaN</td>\n      <td>NaN</td>\n      <td>NaN</td>\n      <td>NaN</td>\n      <td>NaN</td>\n      <td>NaN</td>\n      <td>NaN</td>\n      <td>NaN</td>\n      <td>NaN</td>\n      <td>NaN</td>\n    </tr>\n    <tr>\n      <th>2006</th>\n      <td>Gibson</td>\n      <td>Gibson Les Paul Standard 50s Heritage Cherry S...</td>\n      <td>https://www.guitarguitar.co.uk/product/1903193...</td>\n      <td>4.9/5</td>\n      <td>Manufacturer's ID: LPS500HSNH1</td>\n      <td>Mahogany, Maple (Top)</td>\n      <td>Mahogany</td>\n      <td>Vintage '50s</td>\n      <td>1.69\"</td>\n      <td>Rosewood</td>\n      <td>...</td>\n      <td>NaN</td>\n      <td>NaN</td>\n      <td>NaN</td>\n      <td>NaN</td>\n      <td>NaN</td>\n      <td>NaN</td>\n      <td>NaN</td>\n      <td>NaN</td>\n      <td>NaN</td>\n      <td>NaN</td>\n    </tr>\n    <tr>\n      <th>2007</th>\n      <td>Gibson</td>\n      <td>Gibson Les Paul Standard 50s Heritage Cherry S...</td>\n      <td>https://www.guitarguitar.co.uk/product/1903193...</td>\n      <td>4.9/5</td>\n      <td>Manufacturer's ID: LPS500HSNH1</td>\n      <td>Mahogany, Maple (Top)</td>\n      <td>Mahogany</td>\n      <td>Vintage '50s</td>\n      <td>1.69\"</td>\n      <td>Rosewood</td>\n      <td>...</td>\n      <td>NaN</td>\n      <td>NaN</td>\n      <td>NaN</td>\n      <td>NaN</td>\n      <td>NaN</td>\n      <td>NaN</td>\n      <td>NaN</td>\n      <td>NaN</td>\n      <td>NaN</td>\n      <td>NaN</td>\n    </tr>\n    <tr>\n      <th>2008</th>\n      <td>Gibson</td>\n      <td>Gibson Les Paul Standard 50s Heritage Cherry S...</td>\n      <td>https://www.guitarguitar.co.uk/product/1903193...</td>\n      <td>4.9/5</td>\n      <td>Manufacturer's ID: LPS500HSNH1</td>\n      <td>Mahogany, Maple (Top)</td>\n      <td>Mahogany</td>\n      <td>Vintage '50s</td>\n      <td>1.69\"</td>\n      <td>Rosewood</td>\n      <td>...</td>\n      <td>NaN</td>\n      <td>NaN</td>\n      <td>NaN</td>\n      <td>NaN</td>\n      <td>NaN</td>\n      <td>NaN</td>\n      <td>NaN</td>\n      <td>NaN</td>\n      <td>NaN</td>\n      <td>NaN</td>\n    </tr>\n    <tr>\n      <th>2009</th>\n      <td>Gibson</td>\n      <td>Gibson Les Paul Standard 50s Heritage Cherry S...</td>\n      <td>https://www.guitarguitar.co.uk/product/1903193...</td>\n      <td>4.9/5</td>\n      <td>Manufacturer's ID: LPS500HSNH1</td>\n      <td>Mahogany, Maple (Top)</td>\n      <td>Mahogany</td>\n      <td>Vintage '50s</td>\n      <td>1.69\"</td>\n      <td>Rosewood</td>\n      <td>...</td>\n      <td>NaN</td>\n      <td>NaN</td>\n      <td>NaN</td>\n      <td>NaN</td>\n      <td>NaN</td>\n      <td>NaN</td>\n      <td>NaN</td>\n      <td>NaN</td>\n      <td>NaN</td>\n      <td>NaN</td>\n    </tr>\n    <tr>\n      <th>2010</th>\n      <td>Gibson</td>\n      <td>Gibson Les Paul Standard 50s Heritage Cherry S...</td>\n      <td>https://www.guitarguitar.co.uk/product/1903193...</td>\n      <td>4.9/5</td>\n      <td>Manufacturer's ID: LPS500HSNH1</td>\n      <td>Mahogany, Maple (Top)</td>\n      <td>Mahogany</td>\n      <td>Vintage '50s</td>\n      <td>1.69\"</td>\n      <td>Rosewood</td>\n      <td>...</td>\n      <td>NaN</td>\n      <td>NaN</td>\n      <td>NaN</td>\n      <td>NaN</td>\n      <td>NaN</td>\n      <td>NaN</td>\n      <td>NaN</td>\n      <td>NaN</td>\n      <td>NaN</td>\n      <td>NaN</td>\n    </tr>\n    <tr>\n      <th>2011</th>\n      <td>Gibson</td>\n      <td>Gibson Les Paul Standard 50s Heritage Cherry S...</td>\n      <td>https://www.guitarguitar.co.uk/product/1903193...</td>\n      <td>4.9/5</td>\n      <td>Manufacturer's ID: LPS500HSNH1</td>\n      <td>Mahogany, Maple (Top)</td>\n      <td>Mahogany</td>\n      <td>Vintage '50s</td>\n      <td>1.69\"</td>\n      <td>Rosewood</td>\n      <td>...</td>\n      <td>NaN</td>\n      <td>NaN</td>\n      <td>NaN</td>\n      <td>NaN</td>\n      <td>NaN</td>\n      <td>NaN</td>\n      <td>NaN</td>\n      <td>NaN</td>\n      <td>NaN</td>\n      <td>NaN</td>\n    </tr>\n    <tr>\n      <th>2012</th>\n      <td>Gibson</td>\n      <td>Gibson Les Paul Standard 50s Heritage Cherry S...</td>\n      <td>https://www.guitarguitar.co.uk/product/1903193...</td>\n      <td>4.9/5</td>\n      <td>Manufacturer's ID: LPS500HSNH1</td>\n      <td>Mahogany, Maple (Top)</td>\n      <td>Mahogany</td>\n      <td>Vintage '50s</td>\n      <td>1.69\"</td>\n      <td>Rosewood</td>\n      <td>...</td>\n      <td>NaN</td>\n      <td>NaN</td>\n      <td>NaN</td>\n      <td>NaN</td>\n      <td>NaN</td>\n      <td>NaN</td>\n      <td>NaN</td>\n      <td>NaN</td>\n      <td>NaN</td>\n      <td>NaN</td>\n    </tr>\n    <tr>\n      <th>2013</th>\n      <td>Gibson</td>\n      <td>Gibson Les Paul Standard 50s Heritage Cherry S...</td>\n      <td>https://www.guitarguitar.co.uk/product/1903193...</td>\n      <td>4.9/5</td>\n      <td>Manufacturer's ID: LPS500HSNH1</td>\n      <td>Mahogany, Maple (Top)</td>\n      <td>Mahogany</td>\n      <td>Vintage '50s</td>\n      <td>1.69\"</td>\n      <td>Rosewood</td>\n      <td>...</td>\n      <td>NaN</td>\n      <td>NaN</td>\n      <td>NaN</td>\n      <td>NaN</td>\n      <td>NaN</td>\n      <td>NaN</td>\n      <td>NaN</td>\n      <td>NaN</td>\n      <td>NaN</td>\n      <td>NaN</td>\n    </tr>\n    <tr>\n      <th>2014</th>\n      <td>Gibson</td>\n      <td>Gibson Les Paul Standard 50s Heritage Cherry S...</td>\n      <td>https://www.guitarguitar.co.uk/product/1903193...</td>\n      <td>4.9/5</td>\n      <td>Manufacturer's ID: LPS500HSNH1</td>\n      <td>Mahogany, Maple (Top)</td>\n      <td>Mahogany</td>\n      <td>Vintage '50s</td>\n      <td>1.69\"</td>\n      <td>Rosewood</td>\n      <td>...</td>\n      <td>NaN</td>\n      <td>NaN</td>\n      <td>NaN</td>\n      <td>NaN</td>\n      <td>NaN</td>\n      <td>NaN</td>\n      <td>NaN</td>\n      <td>NaN</td>\n      <td>NaN</td>\n      <td>NaN</td>\n    </tr>\n    <tr>\n      <th>2015</th>\n      <td>Gibson</td>\n      <td>Gibson Les Paul Standard 50s Heritage Cherry S...</td>\n      <td>https://www.guitarguitar.co.uk/product/1903193...</td>\n      <td>4.9/5</td>\n      <td>Manufacturer's ID: LPS500HSNH1</td>\n      <td>Mahogany, Maple (Top)</td>\n      <td>Mahogany</td>\n      <td>Vintage '50s</td>\n      <td>1.69\"</td>\n      <td>Rosewood</td>\n      <td>...</td>\n      <td>NaN</td>\n      <td>NaN</td>\n      <td>NaN</td>\n      <td>NaN</td>\n      <td>NaN</td>\n      <td>NaN</td>\n      <td>NaN</td>\n      <td>NaN</td>\n      <td>NaN</td>\n      <td>NaN</td>\n    </tr>\n  </tbody>\n</table>\n<p>35 rows × 571 columns</p>\n</div>"
     },
     "execution_count": 12,
     "metadata": {},
     "output_type": "execute_result"
    }
   ],
   "source": [
    "## Inspect some entries\n",
    "\n",
    "df[df['id'] == 'Manufacturer\\'s ID: LPS500HSNH1']"
   ],
   "metadata": {
    "collapsed": false
   }
  },
  {
   "cell_type": "markdown",
   "source": [
    "Looking at the above we see some of these models are actually the same but only differ in variations of the name. There are other examples of this whereby the name may contain some additional cosmetic info (e.g a colour the guitar is) but apart from that it is the exact same as another model.\n",
    "\n",
    "As cosmetic properties are being treated as secondary features during this project and as I want entries to be as unique as possible I will remove duplicates of any models which have the same Manufacturer's ID and only differ by model name and link. Like the model name duplicates from earlier this is something that some more extensive investigation could be done on to avoid data loss. I believe the approach I have opted for is sufficient for this project."
   ],
   "metadata": {
    "collapsed": false
   }
  },
  {
   "cell_type": "code",
   "execution_count": 13,
   "outputs": [
    {
     "data": {
      "text/plain": "240"
     },
     "execution_count": 13,
     "metadata": {},
     "output_type": "execute_result"
    }
   ],
   "source": [
    "### Get value counts for the 'id' column\n",
    "value_counts = df['id'].value_counts()\n",
    "\n",
    "## Filter value counts to only include values > 1\n",
    "value_counts_greater_than_1 = value_counts[value_counts > 1]\n",
    "\n",
    "## See how many there are\n",
    "len(value_counts_greater_than_1)"
   ],
   "metadata": {
    "collapsed": false
   }
  },
  {
   "cell_type": "code",
   "execution_count": 14,
   "outputs": [
    {
     "name": "stdout",
     "output_type": "stream",
     "text": [
      "Check complete: 62 id entries had pure duplicates\n"
     ]
    }
   ],
   "source": [
    "## Create a loop that finds and drops the duplicates\n",
    "## Initialise a counter\n",
    "k = 0\n",
    "\n",
    "## Iterate the model names for entries with Manufacturer's ID value count >1\n",
    "for i in value_counts_greater_than_1.index:\n",
    "\n",
    "    ## Get all rows for id \"i\" , drop model and link columns and mask duplicates\n",
    "    df_model = df[df['id'] == i].drop(['model', 'link'], axis=1)\n",
    "    duplicates = df_model.duplicated()\n",
    "\n",
    "\n",
    "    ## Drop duplicated rows from main df\n",
    "    if duplicates.any():\n",
    "        df.drop(df_model[duplicates].index, inplace=True)\n",
    "        df.reset_index(drop=True, inplace=True)\n",
    "        k+=1\n",
    "    else:\n",
    "        pass\n",
    "\n",
    "## See how many of the 240 duplicate ids had genuine duplicates\n",
    "print(f'Check complete: {k} id entries had pure duplicates')"
   ],
   "metadata": {
    "collapsed": false
   }
  },
  {
   "cell_type": "code",
   "execution_count": 15,
   "outputs": [
    {
     "data": {
      "text/plain": "(3014, 571)"
     },
     "execution_count": 15,
     "metadata": {},
     "output_type": "execute_result"
    }
   ],
   "source": [
    "## 196 entries were dropped\n",
    "df.shape"
   ],
   "metadata": {
    "collapsed": false
   }
  },
  {
   "cell_type": "code",
   "execution_count": 16,
   "outputs": [
    {
     "data": {
      "text/plain": "         brand                                              model  \\\n3013  Epiphone  Epiphone 2011 Epiphone Tom DeLonge ES-333 Limi...   \n\n                                                   link rating   id  \\\n3013  https://www.guitarguitar.co.uk/product/pxp2301...    NaN  NaN   \n\n                 Body      Neck Profile Nut Width Fingerboard  ...  \\\n3013  Laminated Maple  Mahogany     NaN     1.68\"    Rosewood  ...   \n\n     Bass Pickup 2 Volumes, 2 Push/Pull Tone Controls, 3-way Toggle Switch  \\\n3013         NaN                                                NaN          \n\n     PRS Two-Piece Stoptail Hybrid Hardware  \\\n3013                                    NaN   \n\n     Phase III Vintage Tuners with Faux Bone Buttons Top Material\\t  \\\n3013                                             NaN            NaN   \n\n     Back & Sides\\t Neck Material\\t Saddle\\t Electronics\\t Tuners          \n3013            NaN             NaN      NaN           NaN            NaN  \n\n[1 rows x 571 columns]",
      "text/html": "<div>\n<style scoped>\n    .dataframe tbody tr th:only-of-type {\n        vertical-align: middle;\n    }\n\n    .dataframe tbody tr th {\n        vertical-align: top;\n    }\n\n    .dataframe thead th {\n        text-align: right;\n    }\n</style>\n<table border=\"1\" class=\"dataframe\">\n  <thead>\n    <tr style=\"text-align: right;\">\n      <th></th>\n      <th>brand</th>\n      <th>model</th>\n      <th>link</th>\n      <th>rating</th>\n      <th>id</th>\n      <th>Body</th>\n      <th>Neck</th>\n      <th>Profile</th>\n      <th>Nut Width</th>\n      <th>Fingerboard</th>\n      <th>...</th>\n      <th>Bass Pickup</th>\n      <th>2 Volumes, 2 Push/Pull Tone Controls, 3-way Toggle Switch</th>\n      <th>PRS Two-Piece Stoptail Hybrid Hardware</th>\n      <th>Phase III Vintage Tuners with Faux Bone Buttons</th>\n      <th>Top Material\\t</th>\n      <th>Back &amp; Sides\\t</th>\n      <th>Neck Material\\t</th>\n      <th>Saddle\\t</th>\n      <th>Electronics\\t</th>\n      <th>Tuners</th>\n    </tr>\n  </thead>\n  <tbody>\n    <tr>\n      <th>3013</th>\n      <td>Epiphone</td>\n      <td>Epiphone 2011 Epiphone Tom DeLonge ES-333 Limi...</td>\n      <td>https://www.guitarguitar.co.uk/product/pxp2301...</td>\n      <td>NaN</td>\n      <td>NaN</td>\n      <td>Laminated Maple</td>\n      <td>Mahogany</td>\n      <td>NaN</td>\n      <td>1.68\"</td>\n      <td>Rosewood</td>\n      <td>...</td>\n      <td>NaN</td>\n      <td>NaN</td>\n      <td>NaN</td>\n      <td>NaN</td>\n      <td>NaN</td>\n      <td>NaN</td>\n      <td>NaN</td>\n      <td>NaN</td>\n      <td>NaN</td>\n      <td>NaN</td>\n    </tr>\n  </tbody>\n</table>\n<p>1 rows × 571 columns</p>\n</div>"
     },
     "execution_count": 16,
     "metadata": {},
     "output_type": "execute_result"
    }
   ],
   "source": [
    "## One price null (can obtain this data manually using the weblink)\n",
    "df[df['price'].isnull() == True]"
   ],
   "metadata": {
    "collapsed": false
   }
  },
  {
   "cell_type": "code",
   "execution_count": 17,
   "outputs": [],
   "source": [
    "df.loc[3013, 'price'] = '£989.00'"
   ],
   "metadata": {
    "collapsed": false
   }
  },
  {
   "cell_type": "code",
   "execution_count": 18,
   "outputs": [
    {
     "name": "stdout",
     "output_type": "stream",
     "text": [
      "Index(['brand', 'model', 'link', 'rating', 'id', 'Body', 'Neck', 'Profile',\n",
      "       'Nut Width', 'Fingerboard',\n",
      "       ...\n",
      "       'Bass Pickup',\n",
      "       '2 Volumes, 2 Push/Pull Tone Controls, 3-way Toggle Switch',\n",
      "       'PRS Two-Piece Stoptail Hybrid Hardware',\n",
      "       'Phase III Vintage Tuners with Faux Bone Buttons', 'Top Material\\t',\n",
      "       'Back & Sides\\t', 'Neck Material\\t', 'Saddle\\t', 'Electronics\\t',\n",
      "       'Tuners        '],\n",
      "      dtype='object', length=571)\n"
     ]
    }
   ],
   "source": [
    "## Can see some features have made their way in - due to errors on product pages\n",
    "print(df.columns)"
   ],
   "metadata": {
    "collapsed": false
   }
  },
  {
   "cell_type": "markdown",
   "source": [
    "Examining the large number of columns it is clear that there are two main reasons for this. Firstly, some specs represent the same quality but have different names or inconsistencies in their formatting. Examples are shown in a moment.\n",
    "\n",
    "Secondly, some specification values have been mapped as columns. This was not due to an error with webscraping but because of inconsistencies on the formatting of the https://www.guitarguitar.co.uk/ website. As over 3000 entries were scraped it would be extremely time-consuming (and likely inefficient) to attempt to go back and make a large amendments to the webscraping script. By this I mean that each page would need to be manually examined and changes made in the script for each product page that has problems (and this could be a large amount).\n",
    "\n",
    "Instead, Data Consolidation will be needed. While this might less time-consuming there is a trade-off that some entries may have to be omitted."
   ],
   "metadata": {
    "collapsed": false
   }
  },
  {
   "cell_type": "markdown",
   "source": [
    "## 3. Data consolidation"
   ],
   "metadata": {
    "collapsed": false
   }
  },
  {
   "cell_type": "markdown",
   "source": [
    "As mentioned, some columns in the dataset are essentially duplicates representing the same features but being called something different for different models. There are possibilities for this dataframe to be consolidated. I'll now examine how this may be done and as before this could be carried out more extensively to retain complete some features that will not be included in the final dataframe. To highlight the duplication of features lets look at the different type of frets columns that are present:"
   ],
   "metadata": {
    "collapsed": false
   }
  },
  {
   "cell_type": "code",
   "execution_count": 19,
   "outputs": [
    {
     "name": "stdout",
     "output_type": "stream",
     "text": [
      "Index(['Frets', 'Fretboard', 'Fretboard Radius', 'Fretboard Material',\n",
      "       ' Fretboard', ' Fret', 'No of Frets', 'Number of Frets', 'Frets Size',\n",
      "       'Fret', 'Width at Last Fret', 'Frets:', 'fretboard', 'fret',\n",
      "       'Fret Size', 'number of frets', 'Fretboard Radius (mm)',\n",
      "       'Number of Frets ', 'Fret Size ', 'FRETWIRE', 'FRETS', 'Frets: ',\n",
      "       'Fretboard Radius  ', 'Thickness @ 1st Fret', 'Fretboard\\t', 'Frets\\t',\n",
      "       'Frets/Type', 'Fretwire', 'Neck Thickness at 1st Fret',\n",
      "       'Neck Thickness at 12th Fret', 'Fret Wire',\n",
      "       'Neck Width @ Nut/12th Fret', 'Thickness @1st/12th Fret',\n",
      "       '12th Fret Width', 'Number Of Frets', 'No. Frets',\n",
      "       'Neck Width at 12th Fret', 'Fret Marker Style', 'Number of Frets:',\n",
      "       'Fret Size:', ' Fretboard  ', ' Fret  ', '\\nFretboard Material',\n",
      "       '\\nFrets', '\\nFretboard Radius', 'Fret Markers', 'Fretboard Wood'],\n",
      "      dtype='object')\n"
     ]
    }
   ],
   "source": [
    "## Find column names containing variations of 'fret' or ending with punctuation\n",
    "## There seems to be a mixture of features these columns refer to such as number of frets on the guitar or fretboard material.\n",
    "## This also captures columns that are referring to guitar measurements at certain frets\n",
    "\n",
    "fret_columns = df.columns[df.columns.str.contains(r'fret\\w*[^\\w\\s]?', regex=True, case=False)]\n",
    "print(fret_columns)"
   ],
   "metadata": {
    "collapsed": false
   }
  },
  {
   "cell_type": "code",
   "execution_count": 20,
   "outputs": [
    {
     "data": {
      "text/plain": "22                   530\n22 Medium Jumbo      340\n24                   169\n21                   158\n24 Jumbo             135\n                    ... \n22 XJ                  1\n 22, Medium Jumbo      1\nSuper Jumbo            1\n22 Medium              1\n21 Medium Vintage      1\nName: Frets, Length: 238, dtype: int64"
     },
     "execution_count": 20,
     "metadata": {},
     "output_type": "execute_result"
    }
   ],
   "source": [
    "## Examine value counts of some of these columns\n",
    "df['Frets'].value_counts()"
   ],
   "metadata": {
    "collapsed": false
   }
  },
  {
   "cell_type": "code",
   "execution_count": 21,
   "outputs": [
    {
     "data": {
      "text/plain": "21.0    1\nName: Number of Frets , dtype: int64"
     },
     "execution_count": 21,
     "metadata": {},
     "output_type": "execute_result"
    }
   ],
   "source": [
    "df['Number of Frets '].value_counts()"
   ],
   "metadata": {
    "collapsed": false
   }
  },
  {
   "cell_type": "code",
   "execution_count": 22,
   "outputs": [
    {
     "data": {
      "text/plain": "     Number of Frets  Frets\n567              21.0   NaN",
      "text/html": "<div>\n<style scoped>\n    .dataframe tbody tr th:only-of-type {\n        vertical-align: middle;\n    }\n\n    .dataframe tbody tr th {\n        vertical-align: top;\n    }\n\n    .dataframe thead th {\n        text-align: right;\n    }\n</style>\n<table border=\"1\" class=\"dataframe\">\n  <thead>\n    <tr style=\"text-align: right;\">\n      <th></th>\n      <th>Number of Frets</th>\n      <th>Frets</th>\n    </tr>\n  </thead>\n  <tbody>\n    <tr>\n      <th>567</th>\n      <td>21.0</td>\n      <td>NaN</td>\n    </tr>\n  </tbody>\n</table>\n</div>"
     },
     "execution_count": 22,
     "metadata": {},
     "output_type": "execute_result"
    }
   ],
   "source": [
    "df[df['Number of Frets '] == 21.0][['Number of Frets ', 'Frets']]"
   ],
   "metadata": {
    "collapsed": false
   }
  },
  {
   "cell_type": "markdown",
   "source": [
    "As shown above the columns 'Number of Frets' and 'Frets' are representing the same feature. In such cases, consolidation can be highly advantageous. However, it is important to note that not all examples will be as straightforward as this one. It is crucial to ensure that consolidation is not done in cases where clashes occur. For instance, if a row has entries in both columns, they should not be consolidated into a single column without further inspection. Therefore, it is essential to conduct a thorough analysis before consolidation takes place. First I show some high-level similarities in column names:"
   ],
   "metadata": {
    "collapsed": false
   }
  },
  {
   "cell_type": "code",
   "execution_count": 23,
   "outputs": [
    {
     "name": "stdout",
     "output_type": "stream",
     "text": [
      "No duplicates\n"
     ]
    }
   ],
   "source": [
    "## Check for exact duplicates of column names\n",
    "duplicated_cols = df.columns[df.columns.duplicated(keep=False)]\n",
    "\n",
    "if len(duplicated_cols) > 0:\n",
    "    print(f'The following columns are duplicated: {duplicated_cols}')\n",
    "else:\n",
    "    print('No duplicates')"
   ],
   "metadata": {
    "collapsed": false
   }
  },
  {
   "cell_type": "code",
   "execution_count": 24,
   "outputs": [
    {
     "name": "stdout",
     "output_type": "stream",
     "text": [
      "The following columns are duplicated: Index(['model', 'Body', 'Neck', 'Nut Width', 'Radius', 'Scale', 'Frets',\n",
      "       'Bridge', 'Tuners', 'Pickups', 'Fretboard', 'Inlays', 'Binding',\n",
      "       'Bridge Pickup', 'Neck Pickup', 'Tailpiece', 'Hardware',\n",
      "       'Country of Origin', 'Hardware Color', 'Neck type', 'Neck pickup',\n",
      "       'Bridge pickup', 'Factory tuning', 'String gauge', 'Hardware color',\n",
      "       'Pickguard', 'Strap Buttons', 'Color', 'Number of Frets',\n",
      "       'Middle Pickup', 'Control Knobs', 'Strings', 'Neck Type',\n",
      "       'Control knobs', 'Fret', 'neck type', 'body', 'fretboard', 'fret',\n",
      "       'bridge', 'neck pickup', 'bridge pickup', 'hardware color',\n",
      "       'number of frets', 'middle pickup', 'factory tuning', 'string gauge',\n",
      "       'tuners', 'Country Of Origin', 'Middle pickup', 'Electronics',\n",
      "       'NECK PROFILE', 'SHAPE', 'BINDING', 'STRINGS', 'FRETWIRE', 'SCALE',\n",
      "       'FRETS', 'RADIUS', 'SIDE DOTS', 'PICKGUARD', 'PICKUP NECK',\n",
      "       'PICKUP BRIDGE', 'colour', 'neck pu', 'bridge pu', 'Neck PU',\n",
      "       'Bridge PU', 'Neck Profile', 'COLOR', 'Neck Back Shape', 'tailpiece',\n",
      "       'Strap button', 'Strap buttons', 'Fretwire', 'Colour', 'Nut width',\n",
      "       'Side Dots', 'Pickup Neck', 'Pickup Bridge', 'Number Of Frets',\n",
      "       'Factory Tuning', 'String Gauge', 'Strap Button', 'BODY', 'INLAYS',\n",
      "       'PICKUPS', 'ELECTRONICS', 'BRIDGE', 'TUNERS', 'HARDWARE',\n",
      "       'Neck back Shape', 'Shape', 'NECK', 'Model'],\n",
      "      dtype='object')\n"
     ]
    },
    {
     "data": {
      "text/plain": "95"
     },
     "execution_count": 24,
     "metadata": {},
     "output_type": "execute_result"
    }
   ],
   "source": [
    "## Same again but we lowercase columns beforehand\n",
    "duplicated_low = df.columns[df.columns.str.lower().duplicated(keep=False)]\n",
    "\n",
    "if len(duplicated_low) > 0:\n",
    "    print(f'The following columns are duplicated: {duplicated_low}')\n",
    "else:\n",
    "    print('No duplicated columns found')\n",
    "\n",
    "## print no. of duplicates\n",
    "len(duplicated_low)"
   ],
   "metadata": {
    "collapsed": false
   }
  },
  {
   "cell_type": "code",
   "execution_count": 25,
   "outputs": [
    {
     "name": "stdout",
     "output_type": "stream",
     "text": [
      "The following columns are duplicated: Index(['Body', 'Neck', 'Nut Width', 'Fingerboard', 'Radius', 'Scale', 'Frets',\n",
      "       'Nut', 'Bridge', 'Tuners',\n",
      "       ...\n",
      "       '\\nHardware Color', '\\nBridge', '\\nTuners', '\\nKnobs', '\\nStrings',\n",
      "       'Top Material\\t', 'Back & Sides\\t', 'Neck Material\\t', 'Electronics\\t',\n",
      "       'Tuners        '],\n",
      "      dtype='object', length=184)\n"
     ]
    },
    {
     "data": {
      "text/plain": "184"
     },
     "execution_count": 25,
     "metadata": {},
     "output_type": "execute_result"
    }
   ],
   "source": [
    "## Now extend this by removing l and r whitespace (this also captures esc characters) - 89 more\n",
    "duplicated_strip = df.columns[df.columns.str.strip().duplicated(keep=False)]\n",
    "\n",
    "if len(duplicated_strip) > 0:\n",
    "    print(f'The following columns are duplicated: {duplicated_strip}')\n",
    "else:\n",
    "    print('No duplicated columns found')\n",
    "\n",
    "len(duplicated_strip)"
   ],
   "metadata": {
    "collapsed": false
   }
  },
  {
   "cell_type": "markdown",
   "source": [
    "To consolidate columns that only differ in name by casing, whitespace, punctuation and/or escape characters I create a consolidation dictionary. The idea behind this is that the root word is identified by applying the string transformations just shown and those are used as keys. The original names that transform into the roots are stored as the values for their respective keys."
   ],
   "metadata": {
    "collapsed": false
   }
  },
  {
   "cell_type": "code",
   "execution_count": 26,
   "outputs": [
    {
     "name": "stdout",
     "output_type": "stream",
     "text": [
      "The following columns are duplicated:\n",
      "['model', 'Model'] are duplicates of model\n",
      "['Body', ' Body', 'Body ', 'body', 'Body:\\xa0', '\\tBody\\t', 'Body\\t', 'BODY', ' Body  '] are duplicates of body\n",
      "['Neck', 'Neck ', '\\tNeck\\t', 'Neck\\t', 'NECK'] are duplicates of neck\n",
      "['Nut Width', 'Nut Width:', 'Nut Width ', '\\tNut Width\\t', 'Nut Width\\t', 'Nut width', '\\nNut Width'] are duplicates of nut width\n",
      "['Fingerboard', 'Fingerboard ', 'Fingerboard:\\xa0', '\\tFingerboard\\t', 'Fingerboard:'] are duplicates of fingerboard\n",
      "['Radius', 'RADIUS', '\\tRadius\\t', 'Radius\\t'] are duplicates of radius\n",
      "['Scale', 'Scale ', 'SCALE', '\\nScale'] are duplicates of scale\n",
      "['Frets', 'Frets:', 'FRETS', 'Frets:\\xa0', 'Frets\\t', '\\nFrets'] are duplicates of frets\n",
      "['Nut', 'Nut ', 'Nut:', '\\nNut'] are duplicates of nut\n",
      "['Bridge', ' Bridge', 'Bridge:', 'bridge', 'Bridge:\\xa0', '\\tBridge\\t', 'Bridge\\t', 'BRIDGE', ' Bridge  ', '\\nBridge'] are duplicates of bridge\n",
      "['Tuners', 'tuners', '\\tTuners\\t', 'Tuners\\t', 'TUNERS', '\\nTuners', 'Tuners        '] are duplicates of tuners\n",
      "['Pickups', '\\tPickups\\t', 'Pickups\\t', 'PICKUPS'] are duplicates of pickups\n",
      "['Controls', 'Controls:', '\\tControls\\t', '\\nControls'] are duplicates of controls\n",
      "['\\xa0', '\\n', ' '] are duplicates of \n",
      "['Neck Shape', 'Neck Shape:', 'Neck Shape\\t', '\\nNeck Shape'] are duplicates of neck shape\n",
      "['Fretboard', ' Fretboard', 'fretboard', 'Fretboard\\t', ' Fretboard  '] are duplicates of fretboard\n",
      "['Tuning Machines', 'Tuning Machines:'] are duplicates of tuning machines\n",
      "['Inlays', '\\tInlays\\t', 'INLAYS', '\\nInlays'] are duplicates of inlays\n",
      "['Pickup', 'Pickup:'] are duplicates of pickup\n",
      "['Top', 'Top '] are duplicates of top\n",
      "['Binding', 'BINDING', '\\nBinding'] are duplicates of binding\n",
      "['Fretboard Radius', 'Fretboard Radius\\xa0 ', '\\nFretboard Radius'] are duplicates of fretboard radius\n",
      "['Bridge Pickup', ' Bridge pickup', 'Bridge pickup', 'Bridge Pickup:', 'bridge pickup', 'Bridge Pickup ', ' Bridge pickup  ', '\\nBridge Pickup'] are duplicates of bridge pickup\n",
      "['Neck Pickup', ' Neck pickup', 'Neck pickup', 'Neck Pickup:', 'neck pickup', 'Neck Pickup ', ' Neck pickup  ', '\\nNeck Pickup'] are duplicates of neck pickup\n",
      "['Hardware Colour', '\\tHardware Colour\\t'] are duplicates of hardware colour\n",
      "['Knobs', 'Knobs:', '\\tKnobs\\t', '\\nKnobs'] are duplicates of knobs\n",
      "['Neck Joint', 'Neck Joint\\t'] are duplicates of neck joint\n",
      "['Truss Rod', '\\nTruss Rod'] are duplicates of truss rod\n",
      "['Scale Length', 'Scale Length:', 'Scale Length ', '\\tScale Length\\t'] are duplicates of scale length\n",
      "['Fingerboard Radius', 'Fingerboard Radius:'] are duplicates of fingerboard radius\n",
      "['Headstock', 'Headstock:', '\\tHeadstock\\t'] are duplicates of headstock\n",
      "['Tailpiece', 'tailpiece', ' Tailpiece  '] are duplicates of tailpiece\n",
      "['Hardware', 'Hardware:', 'Hardware\\t', 'Hardware ', 'HARDWARE'] are duplicates of hardware\n",
      "['Machine Heads', 'Machine Heads:'] are duplicates of machine heads\n",
      "['Item Number', '\\nItem Number'] are duplicates of item number\n",
      "['Guitar Colors', '\\nGuitar Colors'] are duplicates of guitar colors\n",
      "['Country of Origin', 'Country Of Origin', '\\nCountry of Origin'] are duplicates of country of origin\n",
      "['Construction', '\\tConstruction\\t', '\\nConstruction'] are duplicates of construction\n",
      "['Body Material', 'Body Material:', '\\nBody Material'] are duplicates of body material\n",
      "['Top Material', 'Top Material\\t'] are duplicates of top material\n",
      "['Top Contour', '\\nTop Contour'] are duplicates of top contour\n",
      "['Neck Material', 'Neck Material:', 'Neck Material:\\xa0', '\\nNeck Material', 'Neck Material\\t'] are duplicates of neck material\n",
      "['Fretboard Material', '\\nFretboard Material'] are duplicates of fretboard material\n",
      "['Thickness', '\\nThickness'] are duplicates of thickness\n",
      "['Hardware Color', ' Hardware color', 'Hardware color', 'hardware color', ' Hardware color  ', '\\nHardware Color'] are duplicates of hardware color\n",
      "[' Neck type', 'Neck type', 'Neck Type', 'neck type', 'Neck Type:\\xa0', ' Neck type  '] are duplicates of neck type\n",
      "[' Fret', 'Fret', 'fret', ' Fret  '] are duplicates of fret\n",
      "[' Middle pickup', 'Middle Pickup', 'middle pickup', 'Middle pickup', 'Middle Pickup:', 'Middle Pickup '] are duplicates of middle pickup\n",
      "['Factory tuning', 'factory tuning', 'Factory Tuning'] are duplicates of factory tuning\n",
      "['String gauge', 'string gauge', 'String Gauge'] are duplicates of string gauge\n",
      "['Body Finish', 'Body Finish\\t', 'Body Finish:'] are duplicates of body finish\n",
      "['Neck Finish', 'Neck Finish\\t', 'Neck Finish:'] are duplicates of neck finish\n",
      "['Nut Material', 'Nut Material ', 'Nut Material\\t'] are duplicates of nut material\n",
      "['Pickup Switching', 'Pickup Switching:'] are duplicates of pickup switching\n",
      "['Pickguard', 'Pickguard:', 'PICKGUARD'] are duplicates of pickguard\n",
      "['Strap Buttons', 'Strap buttons'] are duplicates of strap buttons\n",
      "['Color', 'Color:', 'COLOR'] are duplicates of color\n",
      "['Body Shape', 'Body Shape:'] are duplicates of body shape\n",
      "['Number of Frets', 'number of frets', 'Number of Frets ', 'Number Of Frets', 'Number of Frets:'] are duplicates of number of frets\n",
      "['String Nut', 'String Nut:'] are duplicates of string nut\n",
      "['Position Inlays', 'Position Inlays:'] are duplicates of position inlays\n",
      "['Pickup Configuration', 'Pickup Configuration:'] are duplicates of pickup configuration\n",
      "['Control Knobs', 'Control knobs', 'Control Knobs:'] are duplicates of control knobs\n",
      "['Strings', 'Strings:', 'STRINGS', '\\nStrings'] are duplicates of strings\n",
      "['Fingerboard Material', 'Fingerboard Material:', 'Fingerboard Material '] are duplicates of fingerboard material\n",
      "['Inlay', 'Inlay:\\xa0'] are duplicates of inlay\n",
      "['HW Color', 'HW Color:\\xa0'] are duplicates of hw color\n",
      "['Body Wood:', 'Body Wood\\t', 'Body Wood'] are duplicates of body wood\n",
      "['Neck Wood:', 'Neck Wood\\t', 'Neck Wood'] are duplicates of neck wood\n",
      "['Fingerboard Wood:', 'Fingerboard Wood'] are duplicates of fingerboard wood\n",
      "['Neck Back Shape:', 'Neck Back Shape', 'Neck back Shape'] are duplicates of neck back shape\n",
      "['SSCII:', 'SSCII'] are duplicates of sscii\n",
      "['Case:', 'Case', 'Case\\t'] are duplicates of case\n",
      "['Fret Size', 'Fret Size ', 'Fret Size:'] are duplicates of fret size\n",
      "['Neck Plate', 'Neck Plate:'] are duplicates of neck plate\n",
      "['Body Top', 'Body Top:'] are duplicates of body top\n",
      "['Electronics', 'ELECTRONICS', 'Electronics\\t'] are duplicates of electronics\n",
      "['Bridge/Tailpiece:', 'Bridge/Tailpiece'] are duplicates of bridge/tailpiece\n",
      "['NECK PROFILE', 'Neck Profile', 'Neck Profile '] are duplicates of neck profile\n",
      "['SHAPE', 'Shape'] are duplicates of shape\n",
      "['FRETWIRE', 'Fretwire'] are duplicates of fretwire\n",
      "['SIDE DOTS', 'Side Dots'] are duplicates of side dots\n",
      "['PICKUP NECK', 'Pickup Neck', 'PICKUP NECK\\t'] are duplicates of pickup neck\n",
      "['PICKUP BRIDGE', 'Pickup Bridge'] are duplicates of pickup bridge\n",
      "['CONTROL', 'CONTROL\\t'] are duplicates of control\n",
      "['TRUSS ROD TOOL', 'TRUSS ROD TOOL\\t'] are duplicates of truss rod tool\n",
      "['colour', 'Colour'] are duplicates of colour\n",
      "['neck pu', 'Neck PU'] are duplicates of neck pu\n",
      "['bridge pu', 'Bridge PU'] are duplicates of bridge pu\n",
      "['Back & Sides', 'Back & Sides\\t'] are duplicates of back & sides\n",
      "['Body Binding', 'Body Binding:'] are duplicates of body binding\n",
      "['Finish Package\\t', 'Finish Package'] are duplicates of finish package\n",
      "['Plating\\t', 'Plating'] are duplicates of plating\n",
      "['Scratch Plate\\t', 'Scratch Plate'] are duplicates of scratch plate\n",
      "['Neck Construction', 'Neck Construction '] are duplicates of neck construction\n",
      "['Strap button', 'Strap Button'] are duplicates of strap button\n",
      "['Body Top Wood', 'Body Top Wood:'] are duplicates of body top wood\n",
      "['Neck Binding', 'Neck Binding:'] are duplicates of neck binding\n",
      "['Bracing:', 'Bracing'] are duplicates of bracing\n",
      "['Body Back:', 'Body Back'] are duplicates of body back\n"
     ]
    }
   ],
   "source": [
    "## Create empty duplicate dictionary\n",
    "duplicates_dict = {}\n",
    "\n",
    "## Iterate through column names\n",
    "for col in df.columns:\n",
    "    col_clean = col.lower()  ## Lowercases transformation\n",
    "    col_clean = col_clean.strip()  # Strips leading and trailing whitespace\n",
    "    col_clean = col_clean.rstrip(':')  # Strips any trailing colons\n",
    "\n",
    "    ## Column name and Transformed column name become k-v pair if k doesn't already exist\n",
    "    if col_clean not in duplicates_dict:\n",
    "        duplicates_dict[col_clean] = [col]\n",
    "    ## If respective k exists untransformed col name is appended as value\n",
    "    else:\n",
    "        if col not in duplicates_dict[col_clean]:\n",
    "            duplicates_dict[col_clean].append(col)\n",
    "\n",
    "## Only want duplicates\n",
    "duplicates = {k: v for k, v in duplicates_dict.items() if len(v) > 1}\n",
    "\n",
    "## View what has been captured\n",
    "if len(duplicates) > 0:\n",
    "    print(\"The following columns are duplicated:\")\n",
    "    for k, v in duplicates.items():\n",
    "        print(f\"{v} are duplicates of {k}\")\n",
    "else:\n",
    "    print(\"No duplicated columns found.\")\n",
    "\n"
   ],
   "metadata": {
    "collapsed": false
   }
  },
  {
   "cell_type": "code",
   "execution_count": 27,
   "outputs": [
    {
     "name": "stdout",
     "output_type": "stream",
     "text": [
      "Number of keys: 100\n",
      "Number of values: 318\n",
      "\n",
      "318 columns could consolidated to 100 columns which is a reduction of 218 columns.\n"
     ]
    }
   ],
   "source": [
    "## View how many cols were consolidated\n",
    "## Get the number of keys in the dictionary\n",
    "num_keys = len(duplicates)\n",
    "print(f'Number of keys: {num_keys}')\n",
    "\n",
    "# Get the number of values in the dictionary\n",
    "num_values = 0\n",
    "for key in duplicates:\n",
    "    num_values += len(duplicates[key]) if isinstance(duplicates[key], list) else 0\n",
    "\n",
    "## Print consolidation values\n",
    "print(f'Number of values: {num_values}')\n",
    "print()\n",
    "print(f'{num_values} columns could consolidated to {num_keys} columns which is a reduction of {num_values - num_keys} columns.')"
   ],
   "metadata": {
    "collapsed": false
   }
  },
  {
   "cell_type": "markdown",
   "source": [
    "Before performing this consolidation I check for clashes using masking as mentioned earlier. For clarity this is demonstrated on one column type (namely 'bridge') and will then be used more generally. In this example ['Bridge', 'bridge', 'BRIDGE'] are values in the duplicates dictionary corresponding to the 'bridge' key."
   ],
   "metadata": {
    "collapsed": false
   }
  },
  {
   "cell_type": "code",
   "execution_count": 29,
   "outputs": [
    {
     "name": "stderr",
     "output_type": "stream",
     "text": [
      "C:\\Users\\gabri\\AppData\\Local\\Temp\\ipykernel_9296\\2436885037.py:5: SettingWithCopyWarning: \n",
      "A value is trying to be set on a copy of a slice from a DataFrame.\n",
      "Try using .loc[row_indexer,col_indexer] = value instead\n",
      "\n",
      "See the caveats in the documentation: https://pandas.pydata.org/pandas-docs/stable/user_guide/indexing.html#returning-a-view-versus-a-copy\n",
      "  df_mini['sum_of_Bridges'] = df_mini[['Bridge', 'bridge', 'BRIDGE']].notna().sum(axis=1)\n"
     ]
    }
   ],
   "source": [
    "## Demonstrate on mini df\n",
    "df_mini = df[['Bridge', 'bridge', 'BRIDGE']]\n",
    "\n",
    "## Use .notna() to return boolean depending on if an entry has a value - add col with row sum\n",
    "df_mini['sum_of_Bridges'] = df_mini[['Bridge', 'bridge', 'BRIDGE']].notna().sum(axis=1)"
   ],
   "metadata": {
    "collapsed": false
   }
  },
  {
   "cell_type": "code",
   "execution_count": 30,
   "outputs": [
    {
     "data": {
      "text/plain": "                                              Bridge bridge BRIDGE  \\\n0                      ABR-1 Tune-O-Matic w/ Stopbar    NaN    NaN   \n1                              2-Point Steel Tremolo    NaN    NaN   \n2                          LockTone ABR with Stopbar    NaN    NaN   \n3  Black Chrome Adjusto-Matic w/ Chrome Vintage-S...    NaN    NaN   \n4             LockTone ABR Tune-o-Matic with Stopbar    NaN    NaN   \n\n   sum_of_Bridges  \n0               1  \n1               1  \n2               1  \n3               1  \n4               1  ",
      "text/html": "<div>\n<style scoped>\n    .dataframe tbody tr th:only-of-type {\n        vertical-align: middle;\n    }\n\n    .dataframe tbody tr th {\n        vertical-align: top;\n    }\n\n    .dataframe thead th {\n        text-align: right;\n    }\n</style>\n<table border=\"1\" class=\"dataframe\">\n  <thead>\n    <tr style=\"text-align: right;\">\n      <th></th>\n      <th>Bridge</th>\n      <th>bridge</th>\n      <th>BRIDGE</th>\n      <th>sum_of_Bridges</th>\n    </tr>\n  </thead>\n  <tbody>\n    <tr>\n      <th>0</th>\n      <td>ABR-1 Tune-O-Matic w/ Stopbar</td>\n      <td>NaN</td>\n      <td>NaN</td>\n      <td>1</td>\n    </tr>\n    <tr>\n      <th>1</th>\n      <td>2-Point Steel Tremolo</td>\n      <td>NaN</td>\n      <td>NaN</td>\n      <td>1</td>\n    </tr>\n    <tr>\n      <th>2</th>\n      <td>LockTone ABR with Stopbar</td>\n      <td>NaN</td>\n      <td>NaN</td>\n      <td>1</td>\n    </tr>\n    <tr>\n      <th>3</th>\n      <td>Black Chrome Adjusto-Matic w/ Chrome Vintage-S...</td>\n      <td>NaN</td>\n      <td>NaN</td>\n      <td>1</td>\n    </tr>\n    <tr>\n      <th>4</th>\n      <td>LockTone ABR Tune-o-Matic with Stopbar</td>\n      <td>NaN</td>\n      <td>NaN</td>\n      <td>1</td>\n    </tr>\n  </tbody>\n</table>\n</div>"
     },
     "execution_count": 30,
     "metadata": {},
     "output_type": "execute_result"
    }
   ],
   "source": [
    "df_mini.head()"
   ],
   "metadata": {
    "collapsed": false
   }
  },
  {
   "cell_type": "code",
   "execution_count": 31,
   "outputs": [
    {
     "data": {
      "text/plain": "1    2875\n0     139\nName: sum_of_Bridges, dtype: int64"
     },
     "execution_count": 31,
     "metadata": {},
     "output_type": "execute_result"
    }
   ],
   "source": [
    "## 139 bridge entries are still outstanding - could be more columns that need consolidating or genuine nulls\n",
    "df_mini['sum_of_Bridges'].value_counts()"
   ],
   "metadata": {
    "collapsed": false
   }
  },
  {
   "cell_type": "code",
   "execution_count": 32,
   "outputs": [
    {
     "data": {
      "text/plain": "Bridge              0\nbridge              0\nBRIDGE              0\nsum_of_Bridges    139\ndtype: int64"
     },
     "execution_count": 32,
     "metadata": {},
     "output_type": "execute_result"
    }
   ],
   "source": [
    "## Check sum_of_bridges value counts\n",
    "df_mini[df_mini['sum_of_Bridges'] < 1].count()"
   ],
   "metadata": {
    "collapsed": false
   }
  },
  {
   "cell_type": "code",
   "execution_count": 33,
   "outputs": [
    {
     "data": {
      "text/plain": "Bridge            2864\nbridge              10\nBRIDGE               1\nsum_of_Bridges    2875\ndtype: int64"
     },
     "execution_count": 33,
     "metadata": {},
     "output_type": "execute_result"
    }
   ],
   "source": [
    "## vast majortity of bridge values came from \"Bridge\"\n",
    "df_mini[df_mini['sum_of_Bridges'] == 1].count()"
   ],
   "metadata": {
    "collapsed": false
   }
  },
  {
   "cell_type": "code",
   "execution_count": 35,
   "outputs": [
    {
     "data": {
      "text/plain": "Bridge            0\nbridge            0\nBRIDGE            0\nsum_of_Bridges    0\ndtype: int64"
     },
     "execution_count": 35,
     "metadata": {},
     "output_type": "execute_result"
    }
   ],
   "source": [
    "## The key finding is that there are no clashes in consolidated values\n",
    "df_mini[df_mini['sum_of_Bridges'] > 1].count()"
   ],
   "metadata": {
    "collapsed": false
   }
  },
  {
   "cell_type": "markdown",
   "source": [
    "With this concept demonstrated I will now proceed to apply the Boolean sum consolidation generally across all k-v pairs in the duplicate dictionary for each row in the dataframe. This will be returned as a new dataframe consisting of sum columns for all the consolidations with each row representing each row in the original dataframe. This dataframe will then be checked for any clashes."
   ],
   "metadata": {
    "collapsed": false
   }
  },
  {
   "cell_type": "code",
   "execution_count": 36,
   "outputs": [
    {
     "data": {
      "text/plain": "   sum_of_model  sum_of_body  sum_of_neck  sum_of_nut width  \\\n0             1            1            1                 1   \n1             1            1            1                 1   \n2             1            1            1                 1   \n3             1            1            1                 1   \n4             1            1            1                 1   \n\n   sum_of_fingerboard  sum_of_radius  sum_of_scale  sum_of_frets  sum_of_nut  \\\n0                   1              1             1             1           1   \n1                   1              1             1             1           1   \n2                   1              1             1             1           1   \n3                   1              1             1             1           1   \n4                   1              1             1             1           1   \n\n   sum_of_bridge  ...  sum_of_body binding  sum_of_finish package  \\\n0              1  ...                    0                      0   \n1              1  ...                    0                      0   \n2              1  ...                    0                      0   \n3              1  ...                    0                      0   \n4              1  ...                    0                      0   \n\n   sum_of_plating  sum_of_scratch plate  sum_of_neck construction  \\\n0               0                     0                         0   \n1               0                     0                         0   \n2               0                     0                         0   \n3               0                     0                         0   \n4               0                     0                         0   \n\n   sum_of_strap button  sum_of_body top wood  sum_of_neck binding  \\\n0                    0                     0                    0   \n1                    0                     0                    0   \n2                    0                     0                    0   \n3                    0                     0                    0   \n4                    0                     0                    0   \n\n   sum_of_bracing  sum_of_body back  \n0               0                 0  \n1               0                 0  \n2               0                 0  \n3               0                 0  \n4               0                 0  \n\n[5 rows x 100 columns]",
      "text/html": "<div>\n<style scoped>\n    .dataframe tbody tr th:only-of-type {\n        vertical-align: middle;\n    }\n\n    .dataframe tbody tr th {\n        vertical-align: top;\n    }\n\n    .dataframe thead th {\n        text-align: right;\n    }\n</style>\n<table border=\"1\" class=\"dataframe\">\n  <thead>\n    <tr style=\"text-align: right;\">\n      <th></th>\n      <th>sum_of_model</th>\n      <th>sum_of_body</th>\n      <th>sum_of_neck</th>\n      <th>sum_of_nut width</th>\n      <th>sum_of_fingerboard</th>\n      <th>sum_of_radius</th>\n      <th>sum_of_scale</th>\n      <th>sum_of_frets</th>\n      <th>sum_of_nut</th>\n      <th>sum_of_bridge</th>\n      <th>...</th>\n      <th>sum_of_body binding</th>\n      <th>sum_of_finish package</th>\n      <th>sum_of_plating</th>\n      <th>sum_of_scratch plate</th>\n      <th>sum_of_neck construction</th>\n      <th>sum_of_strap button</th>\n      <th>sum_of_body top wood</th>\n      <th>sum_of_neck binding</th>\n      <th>sum_of_bracing</th>\n      <th>sum_of_body back</th>\n    </tr>\n  </thead>\n  <tbody>\n    <tr>\n      <th>0</th>\n      <td>1</td>\n      <td>1</td>\n      <td>1</td>\n      <td>1</td>\n      <td>1</td>\n      <td>1</td>\n      <td>1</td>\n      <td>1</td>\n      <td>1</td>\n      <td>1</td>\n      <td>...</td>\n      <td>0</td>\n      <td>0</td>\n      <td>0</td>\n      <td>0</td>\n      <td>0</td>\n      <td>0</td>\n      <td>0</td>\n      <td>0</td>\n      <td>0</td>\n      <td>0</td>\n    </tr>\n    <tr>\n      <th>1</th>\n      <td>1</td>\n      <td>1</td>\n      <td>1</td>\n      <td>1</td>\n      <td>1</td>\n      <td>1</td>\n      <td>1</td>\n      <td>1</td>\n      <td>1</td>\n      <td>1</td>\n      <td>...</td>\n      <td>0</td>\n      <td>0</td>\n      <td>0</td>\n      <td>0</td>\n      <td>0</td>\n      <td>0</td>\n      <td>0</td>\n      <td>0</td>\n      <td>0</td>\n      <td>0</td>\n    </tr>\n    <tr>\n      <th>2</th>\n      <td>1</td>\n      <td>1</td>\n      <td>1</td>\n      <td>1</td>\n      <td>1</td>\n      <td>1</td>\n      <td>1</td>\n      <td>1</td>\n      <td>1</td>\n      <td>1</td>\n      <td>...</td>\n      <td>0</td>\n      <td>0</td>\n      <td>0</td>\n      <td>0</td>\n      <td>0</td>\n      <td>0</td>\n      <td>0</td>\n      <td>0</td>\n      <td>0</td>\n      <td>0</td>\n    </tr>\n    <tr>\n      <th>3</th>\n      <td>1</td>\n      <td>1</td>\n      <td>1</td>\n      <td>1</td>\n      <td>1</td>\n      <td>1</td>\n      <td>1</td>\n      <td>1</td>\n      <td>1</td>\n      <td>1</td>\n      <td>...</td>\n      <td>0</td>\n      <td>0</td>\n      <td>0</td>\n      <td>0</td>\n      <td>0</td>\n      <td>0</td>\n      <td>0</td>\n      <td>0</td>\n      <td>0</td>\n      <td>0</td>\n    </tr>\n    <tr>\n      <th>4</th>\n      <td>1</td>\n      <td>1</td>\n      <td>1</td>\n      <td>1</td>\n      <td>1</td>\n      <td>1</td>\n      <td>1</td>\n      <td>1</td>\n      <td>1</td>\n      <td>1</td>\n      <td>...</td>\n      <td>0</td>\n      <td>0</td>\n      <td>0</td>\n      <td>0</td>\n      <td>0</td>\n      <td>0</td>\n      <td>0</td>\n      <td>0</td>\n      <td>0</td>\n      <td>0</td>\n    </tr>\n  </tbody>\n</table>\n<p>5 rows × 100 columns</p>\n</div>"
     },
     "execution_count": 36,
     "metadata": {},
     "output_type": "execute_result"
    }
   ],
   "source": [
    "## Create a new DataFrame with \"sum_of_k\" columns for each key in duplicates\n",
    "sum_df = pd.DataFrame(columns=['sum_of_'+k for k in duplicates.keys()])\n",
    "\n",
    "## Iterate over the rows in df\n",
    "for i, row in df.iterrows():\n",
    "    ## Initialize a new row dictionary with zeros for all \"sum_of_k\" columns\n",
    "    new_row = {col: 0 for col in sum_df.columns}\n",
    "    ## Iterate over the items in the duplicates dictionary\n",
    "    for k, v in duplicates.items():\n",
    "        ## Count the number of non-null values in the selected columns for the current row\n",
    "        count = row[list(v)].count()\n",
    "        ## Add the count to the corresponding \"sum_of_k\" column for the current row\n",
    "        new_row['sum_of_'+k] += count\n",
    "\n",
    "    ## Add the new row to test_df with the appropriate index value\n",
    "    sum_df.loc[i] = new_row\n",
    "\n",
    "## Head check\n",
    "sum_df.head()"
   ],
   "metadata": {
    "collapsed": false
   }
  },
  {
   "cell_type": "code",
   "execution_count": 38,
   "outputs": [
    {
     "data": {
      "text/plain": "      sum_of_model  sum_of_body  sum_of_neck  sum_of_nut width  \\\n2292             2            0            0                 0   \n\n      sum_of_fingerboard  sum_of_radius  sum_of_scale  sum_of_frets  \\\n2292                   0              0             0             1   \n\n      sum_of_nut  sum_of_bridge  ...  sum_of_body binding  \\\n2292           1              1  ...                    1   \n\n      sum_of_finish package  sum_of_plating  sum_of_scratch plate  \\\n2292                      0               0                     0   \n\n      sum_of_neck construction  sum_of_strap button  sum_of_body top wood  \\\n2292                         0                    1                     0   \n\n      sum_of_neck binding  sum_of_bracing  sum_of_body back  \n2292                    0               0                 0  \n\n[1 rows x 100 columns]",
      "text/html": "<div>\n<style scoped>\n    .dataframe tbody tr th:only-of-type {\n        vertical-align: middle;\n    }\n\n    .dataframe tbody tr th {\n        vertical-align: top;\n    }\n\n    .dataframe thead th {\n        text-align: right;\n    }\n</style>\n<table border=\"1\" class=\"dataframe\">\n  <thead>\n    <tr style=\"text-align: right;\">\n      <th></th>\n      <th>sum_of_model</th>\n      <th>sum_of_body</th>\n      <th>sum_of_neck</th>\n      <th>sum_of_nut width</th>\n      <th>sum_of_fingerboard</th>\n      <th>sum_of_radius</th>\n      <th>sum_of_scale</th>\n      <th>sum_of_frets</th>\n      <th>sum_of_nut</th>\n      <th>sum_of_bridge</th>\n      <th>...</th>\n      <th>sum_of_body binding</th>\n      <th>sum_of_finish package</th>\n      <th>sum_of_plating</th>\n      <th>sum_of_scratch plate</th>\n      <th>sum_of_neck construction</th>\n      <th>sum_of_strap button</th>\n      <th>sum_of_body top wood</th>\n      <th>sum_of_neck binding</th>\n      <th>sum_of_bracing</th>\n      <th>sum_of_body back</th>\n    </tr>\n  </thead>\n  <tbody>\n    <tr>\n      <th>2292</th>\n      <td>2</td>\n      <td>0</td>\n      <td>0</td>\n      <td>0</td>\n      <td>0</td>\n      <td>0</td>\n      <td>0</td>\n      <td>1</td>\n      <td>1</td>\n      <td>1</td>\n      <td>...</td>\n      <td>1</td>\n      <td>0</td>\n      <td>0</td>\n      <td>0</td>\n      <td>0</td>\n      <td>1</td>\n      <td>0</td>\n      <td>0</td>\n      <td>0</td>\n      <td>0</td>\n    </tr>\n  </tbody>\n</table>\n<p>1 rows × 100 columns</p>\n</div>"
     },
     "execution_count": 38,
     "metadata": {},
     "output_type": "execute_result"
    }
   ],
   "source": [
    "## Create boolean mask where any \"sum_of_k\" column greater than 1 is True\n",
    "mask = (sum_df.filter(like='sum_of_') > 1).any(axis=1)\n",
    "\n",
    "## Filter test_df to only show those rows\n",
    "filtered_df = sum_df[mask]\n",
    "\n",
    "## Print the filtered DataFrame\n",
    "filtered_df"
   ],
   "metadata": {
    "collapsed": false
   }
  },
  {
   "cell_type": "markdown",
   "source": [
    "There is only one clash in the whole df. Examining it shows that we have two 'model' entries that differ slightly as one is more detailed but the extra detail is nonessential. This can easily be rectified later and is a good sign the consolidation checks are working as intended."
   ],
   "metadata": {
    "collapsed": false
   }
  },
  {
   "cell_type": "code",
   "execution_count": 40,
   "outputs": [
    {
     "data": {
      "text/plain": "brand                                                           Suhr\nmodel              Suhr guitarguitar Select #160 Standard Carve T...\nlink               https://www.guitarguitar.co.uk/product/1910113...\nrating                                                           NaN\nid                                                               NaN\n                                         ...                        \nBack & Sides\\t                                                   NaN\nNeck Material\\t                                                  NaN\nSaddle\\t                                                         NaN\nElectronics\\t                                                    NaN\nTuners                                                           NaN\nName: 2292, Length: 571, dtype: object"
     },
     "execution_count": 40,
     "metadata": {},
     "output_type": "execute_result"
    }
   ],
   "source": [
    "## We see that we have two model variables that differ slightly as one is more detailed but nonessential.\n",
    "## This can easily be rectified later and is a good sign the consolidation checks are working as intended.\n",
    "\n",
    "df.iloc[2292]"
   ],
   "metadata": {
    "collapsed": false
   }
  },
  {
   "cell_type": "code",
   "execution_count": 42,
   "outputs": [],
   "source": [
    "## Set to null\n",
    "df.loc[2292, 'Model'] = np.nan"
   ],
   "metadata": {
    "collapsed": false
   }
  },
  {
   "cell_type": "markdown",
   "source": [
    "### Consolidated dataframe"
   ],
   "metadata": {
    "collapsed": false
   }
  },
  {
   "cell_type": "markdown",
   "source": [
    "The consolidated dataframe can now be created. It is important to note that there may be further opportunities for consolidation that could allow more features to be used in the modeling process while minimising data loss. Due to project timeline constraints further such consolidation was not achieved here."
   ],
   "metadata": {
    "collapsed": false
   }
  },
  {
   "cell_type": "code",
   "execution_count": 44,
   "outputs": [
    {
     "data": {
      "text/plain": "                                               model  \\\n0  Gibson Les Paul Standard 50s Heritage Cherry S...   \n1          PRS SE John Mayer Silver Sky Dragon Fruit   \n2           Epiphone Les Paul Standard '60s Iced Tea   \n3  Fender Kurt Cobain Jaguar 3 Colour Sunburst NO...   \n4                         Epiphone SG Standard Ebony   \n\n                               body      neck nut width    fingerboard radius  \\\n0             Mahogany, Maple (Top)  Mahogany     1.69\"       Rosewood    12\"   \n1                            Poplar     Maple  1 20/32”       Rosewood   8.5”   \n2  Mahogany with AA Flame Maple Top  Mahogany    1.693\"  Indian Laurel    12\"   \n3                             Alder     Maple     1.65\"       Rosewood   9.5\"   \n4                          Mahogany  Mahogany    1.693\"  Indian Laurel    12\"   \n\n    scale             frets              nut  \\\n0  24.75\"  22, Medium Jumbo       Graph Tech   \n1   25.5”                22  Synthetic Bone    \n2  24.75\"   22 Medium Jumbo       Graph Tech   \n3     24\"  22, Medium Jumbo   Synthetic Bone   \n4  24.75\"   22 Medium Jumbo       Graph Tech   \n\n                                              bridge  ... plating  \\\n0                      ABR-1 Tune-O-Matic w/ Stopbar  ...     NaN   \n1                              2-Point Steel Tremolo  ...     NaN   \n2                          LockTone ABR with Stopbar  ...     NaN   \n3  Black Chrome Adjusto-Matic w/ Chrome Vintage-S...  ...     NaN   \n4             LockTone ABR Tune-o-Matic with Stopbar  ...     NaN   \n\n  scratch plate neck construction strap button body top wood neck binding  \\\n0           NaN               NaN          NaN           NaN          NaN   \n1           NaN               NaN          NaN           NaN          NaN   \n2           NaN               NaN          NaN           NaN          NaN   \n3           NaN               NaN          NaN           NaN          NaN   \n4           NaN               NaN          NaN           NaN          NaN   \n\n  bracing body back      price     brand  \n0     NaN       NaN    £599.00    Gibson  \n1     NaN       NaN    £469.00       PRS  \n2     NaN       NaN  £1,399.00  Epiphone  \n3     NaN       NaN    £399.00    Fender  \n4     NaN       NaN  £9,499.00  Epiphone  \n\n[5 rows x 102 columns]",
      "text/html": "<div>\n<style scoped>\n    .dataframe tbody tr th:only-of-type {\n        vertical-align: middle;\n    }\n\n    .dataframe tbody tr th {\n        vertical-align: top;\n    }\n\n    .dataframe thead th {\n        text-align: right;\n    }\n</style>\n<table border=\"1\" class=\"dataframe\">\n  <thead>\n    <tr style=\"text-align: right;\">\n      <th></th>\n      <th>model</th>\n      <th>body</th>\n      <th>neck</th>\n      <th>nut width</th>\n      <th>fingerboard</th>\n      <th>radius</th>\n      <th>scale</th>\n      <th>frets</th>\n      <th>nut</th>\n      <th>bridge</th>\n      <th>...</th>\n      <th>plating</th>\n      <th>scratch plate</th>\n      <th>neck construction</th>\n      <th>strap button</th>\n      <th>body top wood</th>\n      <th>neck binding</th>\n      <th>bracing</th>\n      <th>body back</th>\n      <th>price</th>\n      <th>brand</th>\n    </tr>\n  </thead>\n  <tbody>\n    <tr>\n      <th>0</th>\n      <td>Gibson Les Paul Standard 50s Heritage Cherry S...</td>\n      <td>Mahogany, Maple (Top)</td>\n      <td>Mahogany</td>\n      <td>1.69\"</td>\n      <td>Rosewood</td>\n      <td>12\"</td>\n      <td>24.75\"</td>\n      <td>22, Medium Jumbo</td>\n      <td>Graph Tech</td>\n      <td>ABR-1 Tune-O-Matic w/ Stopbar</td>\n      <td>...</td>\n      <td>NaN</td>\n      <td>NaN</td>\n      <td>NaN</td>\n      <td>NaN</td>\n      <td>NaN</td>\n      <td>NaN</td>\n      <td>NaN</td>\n      <td>NaN</td>\n      <td>£599.00</td>\n      <td>Gibson</td>\n    </tr>\n    <tr>\n      <th>1</th>\n      <td>PRS SE John Mayer Silver Sky Dragon Fruit</td>\n      <td>Poplar</td>\n      <td>Maple</td>\n      <td>1 20/32”</td>\n      <td>Rosewood</td>\n      <td>8.5”</td>\n      <td>25.5”</td>\n      <td>22</td>\n      <td>Synthetic Bone</td>\n      <td>2-Point Steel Tremolo</td>\n      <td>...</td>\n      <td>NaN</td>\n      <td>NaN</td>\n      <td>NaN</td>\n      <td>NaN</td>\n      <td>NaN</td>\n      <td>NaN</td>\n      <td>NaN</td>\n      <td>NaN</td>\n      <td>£469.00</td>\n      <td>PRS</td>\n    </tr>\n    <tr>\n      <th>2</th>\n      <td>Epiphone Les Paul Standard '60s Iced Tea</td>\n      <td>Mahogany with AA Flame Maple Top</td>\n      <td>Mahogany</td>\n      <td>1.693\"</td>\n      <td>Indian Laurel</td>\n      <td>12\"</td>\n      <td>24.75\"</td>\n      <td>22 Medium Jumbo</td>\n      <td>Graph Tech</td>\n      <td>LockTone ABR with Stopbar</td>\n      <td>...</td>\n      <td>NaN</td>\n      <td>NaN</td>\n      <td>NaN</td>\n      <td>NaN</td>\n      <td>NaN</td>\n      <td>NaN</td>\n      <td>NaN</td>\n      <td>NaN</td>\n      <td>£1,399.00</td>\n      <td>Epiphone</td>\n    </tr>\n    <tr>\n      <th>3</th>\n      <td>Fender Kurt Cobain Jaguar 3 Colour Sunburst NO...</td>\n      <td>Alder</td>\n      <td>Maple</td>\n      <td>1.65\"</td>\n      <td>Rosewood</td>\n      <td>9.5\"</td>\n      <td>24\"</td>\n      <td>22, Medium Jumbo</td>\n      <td>Synthetic Bone</td>\n      <td>Black Chrome Adjusto-Matic w/ Chrome Vintage-S...</td>\n      <td>...</td>\n      <td>NaN</td>\n      <td>NaN</td>\n      <td>NaN</td>\n      <td>NaN</td>\n      <td>NaN</td>\n      <td>NaN</td>\n      <td>NaN</td>\n      <td>NaN</td>\n      <td>£399.00</td>\n      <td>Fender</td>\n    </tr>\n    <tr>\n      <th>4</th>\n      <td>Epiphone SG Standard Ebony</td>\n      <td>Mahogany</td>\n      <td>Mahogany</td>\n      <td>1.693\"</td>\n      <td>Indian Laurel</td>\n      <td>12\"</td>\n      <td>24.75\"</td>\n      <td>22 Medium Jumbo</td>\n      <td>Graph Tech</td>\n      <td>LockTone ABR Tune-o-Matic with Stopbar</td>\n      <td>...</td>\n      <td>NaN</td>\n      <td>NaN</td>\n      <td>NaN</td>\n      <td>NaN</td>\n      <td>NaN</td>\n      <td>NaN</td>\n      <td>NaN</td>\n      <td>NaN</td>\n      <td>£9,499.00</td>\n      <td>Epiphone</td>\n    </tr>\n  </tbody>\n</table>\n<p>5 rows × 102 columns</p>\n</div>"
     },
     "execution_count": 44,
     "metadata": {},
     "output_type": "execute_result"
    }
   ],
   "source": [
    "## Create consolidated df columns from duplicate keys\n",
    "## As not all cols were consolidated any other cols need to be added manually\n",
    "## As'price' and 'brand' are likely useful features these are added\n",
    "\n",
    "cons_df = pd.DataFrame(columns=[k for k in duplicates.keys()] + ['price', 'brand'])\n",
    "\n",
    "## Iterate over the rows in df\n",
    "for i, row in df.iterrows():\n",
    "    ## Initialize a new row dictionary with NaN for all \"k_cons\" columns\n",
    "    new_row = {col: np.nan for col in cons_df.columns}\n",
    "    ## Add the Price, ID and Brand for row values to the new row dictionary\n",
    "    new_row['price'] = row['price']\n",
    "    new_row['brand'] = row['brand']\n",
    "    new_row['id'] = row['id']\n",
    "    ## Iterate over the items in the duplicates dictionary\n",
    "    for k, v in duplicates.items():\n",
    "        ## Get the non-null value from the selected columns for the current row\n",
    "        non_null_values = row[list(v)].dropna()\n",
    "        if len(non_null_values) == 1:\n",
    "            ## Only one non-null value found, store it in the corresponding \"k_cons\" column for the current row\n",
    "            new_row[k] = non_null_values.iloc[0]\n",
    "        ## Further consistency check to catch any errors\n",
    "        elif len(non_null_values) > 1:\n",
    "            print(f'Error on {i}')\n",
    "    ## Add the new row to cons_df with the appropriate index value\n",
    "    cons_df.loc[i] = new_row\n",
    "\n",
    "## Head check\n",
    "cons_df.head()"
   ],
   "metadata": {
    "collapsed": false
   }
  },
  {
   "cell_type": "code",
   "execution_count": 45,
   "outputs": [
    {
     "data": {
      "text/plain": "model              0\nbody             217\nneck             284\nnut width        759\nfingerboard      325\n                ... \nneck binding    3010\nbracing         3011\nbody back       3011\nprice              0\nbrand              0\nLength: 102, dtype: int64"
     },
     "execution_count": 45,
     "metadata": {},
     "output_type": "execute_result"
    }
   ],
   "source": [
    "cons_df.isnull().sum()"
   ],
   "metadata": {
    "collapsed": false
   }
  },
  {
   "cell_type": "code",
   "execution_count": 46,
   "outputs": [
    {
     "data": {
      "text/plain": "brand                 0\nmodel                 0\nlink                  0\nrating             2260\nid                  328\n                   ... \nBack & Sides\\t     3012\nNeck Material\\t    3012\nSaddle\\t           3012\nElectronics\\t      3012\nTuners             3012\nLength: 571, dtype: int64"
     },
     "execution_count": 46,
     "metadata": {},
     "output_type": "execute_result"
    }
   ],
   "source": [
    "## Consolidation has reduced nulls in some cases if just one column had been chosen e.g\n",
    "## Body 249 -> body 217\n",
    "## Frets 209 -> frets 115\n",
    "## Bridge 150 -> bridge 40\n",
    "\n",
    "df.isnull().sum()"
   ],
   "metadata": {
    "collapsed": false
   }
  },
  {
   "cell_type": "code",
   "execution_count": 48,
   "outputs": [
    {
     "data": {
      "text/plain": "False    3014\ndtype: int64"
     },
     "execution_count": 48,
     "metadata": {},
     "output_type": "execute_result"
    }
   ],
   "source": [
    "## no duplicates\n",
    "cons_df.duplicated().value_counts()"
   ],
   "metadata": {
    "collapsed": false
   }
  },
  {
   "cell_type": "code",
   "execution_count": 52,
   "outputs": [],
   "source": [
    "## Save consolidated data to a csv\n",
    "cons_df.to_csv('guitar_data_consolidated.csv', index=False)"
   ],
   "metadata": {
    "collapsed": false
   }
  },
  {
   "cell_type": "markdown",
   "source": [
    "Now that the data has been consolidated EDA and feature analysis can take place. Please see Part 2 for that process."
   ],
   "metadata": {
    "collapsed": false
   }
  }
 ],
 "metadata": {
  "kernelspec": {
   "display_name": "Python 3",
   "language": "python",
   "name": "python3"
  },
  "language_info": {
   "codemirror_mode": {
    "name": "ipython",
    "version": 2
   },
   "file_extension": ".py",
   "mimetype": "text/x-python",
   "name": "python",
   "nbconvert_exporter": "python",
   "pygments_lexer": "ipython2",
   "version": "2.7.6"
  }
 },
 "nbformat": 4,
 "nbformat_minor": 0
}
